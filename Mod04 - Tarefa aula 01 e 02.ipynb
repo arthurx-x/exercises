{
 "cells": [
  {
   "cell_type": "markdown",
   "metadata": {},
   "source": [
    "# Tarefa 01\n",
    "\n",
    "- Leia os enunciados com atenção\n",
    "- Saiba que pode haver mais de uma resposta correta\n",
    "- Insira novas células de código sempre que achar necessário\n",
    "- Em caso de dúvidas, procure os tutores\n",
    "- Divirta-se :)\n",
    "\n",
    "#### 1)  crie uma série do pandas a partir de uma lista com os dados abaixo:\n",
    "\n",
    "Em um estudo sobre alteração na tempreatura global, A NASA disponibiliza dados de diferenças de de temperatura média da superfície terrestre relativos às médias de temperatura entre 1951 e 1980. Os dados originais podem ser vistos no site da NASA/GISS, e estão dispostos a cada década na tabela abaixo.\n",
    "\n",
    "|ano|anomalia termica|\n",
    "|:-:|:----:|\n",
    "| 1900 | -0.08 |\n",
    "| 1920 | -0.27 |\n",
    "| 1940 | 0.12 |\n",
    "| 1960 | -0.03 |\n",
    "| 1980 | 0.26 |\n",
    "| 2000 | 0.40 |\n",
    "| 2020 | 1.02 |\n",
    "\n",
    "Crie uma séries do Pandas a partir de uma lista com esses dados."
   ]
  },
  {
   "cell_type": "code",
   "execution_count": 38,
   "metadata": {},
   "outputs": [
    {
     "name": "stdout",
     "output_type": "stream",
     "text": [
      "ano\n",
      "1900   -0.08\n",
      "1920   -0.27\n",
      "1940    0.12\n",
      "1960   -0.03\n",
      "1980    0.26\n",
      "2000    0.40\n",
      "2020    1.02\n",
      "dtype: float64\n"
     ]
    }
   ],
   "source": [
    "import pandas as pd\n",
    "import numpy as np\n",
    "\n",
    "# Seu código aqui\n",
    "dados = {'ano': [1900, 1920, 1940, 1960, 1980, 2000, 2020],\n",
    "         'anomalia termica': [-0.08, -0.27, 0.12, -0.03, 0.26, 0.40, 1.02]}\n",
    "df = pd.DataFrame(dados)\n",
    "serie_temperatura = pd.Series(df['anomalia termica'].values, index=df['ano'])\n",
    "print(serie_temperatura)"
   ]
  },
  {
   "cell_type": "markdown",
   "metadata": {},
   "source": [
    "#### 2) Coloque os anos nos índices conforme a tabela."
   ]
  },
  {
   "cell_type": "code",
   "execution_count": 7,
   "metadata": {},
   "outputs": [
    {
     "name": "stdout",
     "output_type": "stream",
     "text": [
      "ano\n",
      "1900   -0.08\n",
      "1920   -0.27\n",
      "1940    0.12\n",
      "1960   -0.03\n",
      "1980    0.26\n",
      "2000    0.40\n",
      "2020    1.02\n",
      "dtype: float64\n"
     ]
    }
   ],
   "source": [
    "# seu código aqui\n",
    "dados = {'ano': [1900, 1920, 1940, 1960, 1980, 2000, 2020],\n",
    "         'anomalia termica': [-0.08, -0.27, 0.12, -0.03, 0.26, 0.40, 1.02]}\n",
    "df = pd.DataFrame(dados)\n",
    "serie_temperatura = pd.Series(df['anomalia termica'].values, index=df['ano'])\n",
    "print(serie_temperatura)"
   ]
  },
  {
   "cell_type": "markdown",
   "metadata": {},
   "source": [
    "#### 3) A partir do dicionário abaixo, crie uma séries do Pandas:"
   ]
  },
  {
   "cell_type": "code",
   "execution_count": 10,
   "metadata": {},
   "outputs": [
    {
     "name": "stdout",
     "output_type": "stream",
     "text": [
      "dict_temperaturas\n",
      "1900   -0.08\n",
      "1920   -0.27\n",
      "1940    0.12\n",
      "1960   -0.03\n",
      "1980    0.26\n",
      "2000    0.40\n",
      "2020    1.02\n",
      "dtype: float64\n"
     ]
    }
   ],
   "source": [
    "dic_temperaturas = {1900: -.08, 1920: -.27, 1940: .12, 1960: -.03, 1980: .26, 2000: .40, 2020: 1.02}\n",
    "print (\"dict_temperaturas\")\n",
    "\n",
    "# seu código aqui\n",
    "serie_temperatura = pd.Series(dic_temperaturas)\n",
    "\n",
    "print(serie_temperatura)"
   ]
  },
  {
   "cell_type": "markdown",
   "metadata": {},
   "source": [
    "#### 4) Transforme o ndarray abaixo em um dataframe. \n",
    "O numpy é capaz de gerar arrays n-dimensionais com números pseudo-aleatórios de acordo com uma variedade de distribuições, como no exemplo abaixo. Transforme esse nd-array em um DataFrame."
   ]
  },
  {
   "cell_type": "code",
   "execution_count": 27,
   "metadata": {},
   "outputs": [
    {
     "name": "stdout",
     "output_type": "stream",
     "text": [
      "       Coluna1     Coluna2     Coluna3\n",
      "0   104.641088   94.928627  103.960158\n",
      "1    93.915493   87.185560   95.148857\n",
      "2   111.489340   97.570397  109.083989\n",
      "3    98.929015  112.729845   89.771346\n",
      "4    95.195417   96.432407  100.641963\n",
      "5    96.719783   92.198349   91.067147\n",
      "6    97.194538  106.385477  102.990799\n",
      "7   106.063063   95.473310   98.630182\n",
      "8    93.078060  103.035538  100.448721\n",
      "9   100.116115  101.960722   88.230864\n",
      "10   89.573914  102.559327   93.204171\n",
      "11  119.966600   90.486971  103.297394\n",
      "12  107.210424  110.797972  100.177109\n",
      "13  106.555734   92.170042   83.711878\n",
      "14   90.611468  100.081631   85.845450\n",
      "15  112.667719   79.940841  103.886503\n",
      "16   93.060654  107.245152   81.096620\n",
      "17   94.904928  105.972868   88.836385\n",
      "18   96.950668   91.006488  100.150713\n",
      "19   99.334437   89.431971   96.598216\n"
     ]
    }
   ],
   "source": [
    "arr = np.random.normal(100, 10, (20,3))\n",
    "\n",
    "# seu código aqui\n",
    "arr = np.random.normal(100, 10, (20, 3))\n",
    "df = pd.DataFrame(arr, columns=['Coluna1', 'Coluna2', 'Coluna3'])\n",
    "\n",
    "print(df)"
   ]
  },
  {
   "cell_type": "markdown",
   "metadata": {},
   "source": [
    "#### 5) Nomeie os índices das linhas com inteiros de 1 a 20, e as colunas com os nomes \"x1\", \"x2\", e \"x3\" respectivamente."
   ]
  },
  {
   "cell_type": "code",
   "execution_count": 30,
   "metadata": {},
   "outputs": [
    {
     "name": "stdout",
     "output_type": "stream",
     "text": [
      "            x1          x2          x3\n",
      "1   102.048949  120.959095  107.266125\n",
      "2   122.685334   88.104897  105.800323\n",
      "3    94.666515   97.680318   99.657714\n",
      "4   116.872721  101.279343  102.745200\n",
      "5    96.391700   91.836202   95.407810\n",
      "6   100.435039  102.276388  121.340663\n",
      "7   109.477683  103.841402  110.089074\n",
      "8    96.754818  108.929260  103.450526\n",
      "9    88.754012  126.914334  111.431914\n",
      "10   79.506978  108.309883  109.111066\n",
      "11   89.294942   95.076047  104.996264\n",
      "12  104.209528   92.059770   97.300249\n",
      "13   98.582677  111.366546  123.298239\n",
      "14  104.214079   99.099101   84.296096\n",
      "15   97.926032   91.669071  109.121762\n",
      "16   94.680962  114.729930  108.614472\n",
      "17  112.152729  121.716520   89.877857\n",
      "18   85.225210  106.786065  105.636375\n",
      "19   91.570514  105.052338  102.984438\n",
      "20  101.518511  115.586983  104.388681\n"
     ]
    }
   ],
   "source": [
    "#seu código aqui\n",
    "arr = np.random.normal(100, 10, (20, 3))\n",
    "df = pd.DataFrame(arr, index=range(1, 21), columns=['x1', 'x2', 'x3'])\n",
    "\n",
    "print(df)"
   ]
  },
  {
   "cell_type": "markdown",
   "metadata": {},
   "source": [
    "#### 6) No DataFrame do exercício 5, crie uma nova coluna como sendo a média das três colunas, e dê a ela o nome de \"media\" (não recomendo colocar acentos em nomes de variáveis)."
   ]
  },
  {
   "cell_type": "code",
   "execution_count": 32,
   "metadata": {},
   "outputs": [
    {
     "name": "stdout",
     "output_type": "stream",
     "text": [
      "            x1          x2          x3       media\n",
      "1    98.489882  111.352128   89.703690   99.848567\n",
      "2   110.210685   93.984041   97.896903  100.697210\n",
      "3    90.284305  103.289767   90.468146   94.680739\n",
      "4    68.057990  106.684312  111.522808   95.421703\n",
      "5   103.309160  101.872989  112.101424  105.761191\n",
      "6    94.979299   92.991055   94.347596   94.105984\n",
      "7   110.718932  100.147317   85.727300   98.864516\n",
      "8   105.845619  117.585518   90.630061  104.687066\n",
      "9   109.993708  108.794236  109.622402  109.470115\n",
      "10  116.897454   88.207066   91.394209   98.832910\n",
      "11  113.970312   99.214458  103.158496  105.447755\n",
      "12   85.734066  102.113251   99.397863   95.748393\n",
      "13   90.631381   89.783080  104.528150   94.980870\n",
      "14   95.957780  109.741319   93.676637   99.791912\n",
      "15   92.458156  103.771087   87.235840   94.488361\n",
      "16  103.166977   85.473322  111.291148   99.977149\n",
      "17  102.816924   88.860786   93.374304   95.017338\n",
      "18  113.395382  107.769362  100.960420  107.375055\n",
      "19  100.135630   81.088732  108.896526   96.706963\n",
      "20  115.133972   83.640852   88.077701   95.617509\n"
     ]
    }
   ],
   "source": [
    "# seu código aqui\n",
    "arr = np.random.normal(100, 10, (20, 3))\n",
    "df = pd.DataFrame(arr, index=range(1, 21), columns=['x1', 'x2', 'x3'])\n",
    "df['media'] = df[['x1', 'x2', 'x3']].mean(axis=1)\n",
    "\n",
    "print(df)"
   ]
  },
  {
   "cell_type": "markdown",
   "metadata": {},
   "source": [
    "#### 7) No DataFrame do exercício 6, crie uma nova coluna chamada \"log_med\", contendo o logaritmo natural da média calculada no exercício 6 <br>"
   ]
  },
  {
   "cell_type": "code",
   "execution_count": 34,
   "metadata": {},
   "outputs": [
    {
     "name": "stdout",
     "output_type": "stream",
     "text": [
      "            x1          x2          x3       media   log_med\n",
      "1    93.366435  112.201695  111.142694  105.570275  4.659377\n",
      "2    97.826367   98.128973   94.431210   96.795517  4.572601\n",
      "3   120.990287  114.678362   75.540273  103.736307  4.641852\n",
      "4   117.603747  106.206193  107.177689  110.329210  4.703469\n",
      "5   113.724838  105.604279   80.757132  100.028750  4.605458\n",
      "6    96.723486   99.652691  112.142342  102.839506  4.633170\n",
      "7   101.876070  113.096139   95.972527  103.648245  4.641003\n",
      "8   112.021862  117.770384   96.872917  108.888388  4.690323\n",
      "9   107.139956   84.351939  100.229816   97.240571  4.577188\n",
      "10  100.686398   88.147414   79.701010   89.511607  4.494368\n",
      "11   98.688687  123.221302  105.327597  109.079195  4.692074\n",
      "12  122.352936  105.650760   87.728447  105.244048  4.656282\n",
      "13   94.104959  111.670043   82.877757   96.217586  4.566612\n",
      "14  107.196554  113.300123   98.590297  106.362325  4.666851\n",
      "15  103.905580  101.407634   89.903909   98.405708  4.589099\n",
      "16  102.619271  101.258168   93.964515   99.280651  4.597951\n",
      "17  107.315391   90.768238  103.907240  100.663623  4.611784\n",
      "18  124.774137  105.896983   92.866608  107.845909  4.680703\n",
      "19  106.152494  114.968450   97.070488  106.063811  4.664041\n",
      "20   82.933306  126.433198   94.900422  101.422309  4.619293\n"
     ]
    }
   ],
   "source": [
    "# seu código aqui\n",
    "arr = np.random.normal(100, 10, (20, 3))\n",
    "df = pd.DataFrame(arr, index=range(1, 21), columns=['x1', 'x2', 'x3'])\n",
    "df['media'] = df.mean(axis=1)\n",
    "df['log_med'] = np.log(df['media'])\n",
    "\n",
    "print(df)"
   ]
  }
 ],
 "metadata": {
  "kernelspec": {
   "display_name": "Python 3",
   "language": "python",
   "name": "python3"
  },
  "language_info": {
   "codemirror_mode": {
    "name": "ipython",
    "version": 3
   },
   "file_extension": ".py",
   "mimetype": "text/x-python",
   "name": "python",
   "nbconvert_exporter": "python",
   "pygments_lexer": "ipython3",
   "version": "3.11.5"
  }
 },
 "nbformat": 4,
 "nbformat_minor": 4
}
