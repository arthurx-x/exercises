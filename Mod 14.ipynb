{
 "cells": [
  {
   "cell_type": "code",
   "execution_count": null,
   "metadata": {},
   "outputs": [],
   "source": [
    "import os\n",
    "import pandas as pd\n",
    "import seaborn as sns\n",
    "import matplotlib.pyplot as plt\n",
    "sns.set_theme()\n",
    "plt.rcParams['figure.figsize'] = [15, 5]\n",
    "def plot_and_save(df, value, index, func, ylabel, xlabel, folder_name, file_name, option=None):\n",
    "    pivot_table = pd.pivot_table(df, values=value, index=index, aggfunc=func)\n",
    "    if option == 'sort':\n",
    "        pivot_table.sort_values(value, inplace=True)\n",
    "    elif option == 'unstack':\n",
    "        pivot_table = pivot_table.unstack()\n",
    "    ax = pivot_table.plot()\n",
    "    ax.set(ylabel=ylabel, xlabel=xlabel)\n",
    "    plt.savefig(f'./output/figs/{folder_name}/{file_name}.png')\n",
    "    plt.close()\n",
    "data_frames = {m: pd.read_csv(f'SINASC_RO_2019_{m}.csv') for m in ['MAR', 'ABR', 'MAI', 'JUN', 'DEZ']}\n",
    "for mes, df in data_frames.items():\n",
    "    max_data = df.DTNASC.max()[:7]\n",
    "    os.makedirs(f'./output/figs/{max_data}', exist_ok=True)\n",
    "    analyses = [\n",
    "        ('IDADEMAE', 'DTNASC', 'count', 'Quantidade de nascimentos', 'Data de nascimento', None),\n",
    "        ('IDADEMAE', ['DTNASC', 'SEXO'], 'mean', 'Média da idade das mães', 'Data de nascimento', 'unstack'),\n",
    "        ('PESO', ['DTNASC', 'SEXO'], 'mean', 'Média do peso dos bebês', 'Data de nascimento', 'unstack'),\n",
    "        ('APGAR1', 'ESCMAE', 'median', 'Mediana do APGAR1', 'Escolaridade', 'sort'),\n",
    "        ('APGAR1', 'GESTACAO', 'mean', 'Média do APGAR1', 'Gestação', 'sort'),\n",
    "        ('APGAR5', 'GESTACAO', 'mean', 'Média do APGAR5', 'Gestação', 'sort')]\n",
    "    for value, index, func, ylabel, xlabel, option in analyses:\n",
    "        plot_and_save(df, value, index, func, ylabel, xlabel, max_data, ylabel.replace(' ', '_'), option)\n",
    "    print(f'Data inicial: {df.DTNASC.min()}, Data final: {df.DTNASC.max()}')\n",
    "    print(f'Nome da pasta: {max_data}\\n')"
   ]
  },
  {
   "cell_type": "markdown",
   "metadata": {},
   "source": [
    "- Definir uma identificação automatica dos arquivos CSV na pasta.\n",
    "- Criar um arquivo externo parametros e analises a serem feitas.\n",
    "- Façar o agendamento automatico da tarefa."
   ]
  }
 ],
 "metadata": {
  "kernelspec": {
   "display_name": "base",
   "language": "python",
   "name": "python3"
  },
  "language_info": {
   "codemirror_mode": {
    "name": "ipython",
    "version": 3
   },
   "file_extension": ".py",
   "mimetype": "text/x-python",
   "name": "python",
   "nbconvert_exporter": "python",
   "pygments_lexer": "ipython3",
   "version": "3.11.5"
  }
 },
 "nbformat": 4,
 "nbformat_minor": 2
}
