{
 "cells": [
  {
   "cell_type": "markdown",
   "metadata": {},
   "source": [
    "# EBAC - Regressão II - regressão múltipla\n",
    "\n",
    "## Tarefa I"
   ]
  },
  {
   "cell_type": "markdown",
   "metadata": {},
   "source": [
    "#### Previsão de renda\n",
    "\n",
    "Vamos trabalhar com a base 'previsao_de_renda.csv', que é a base do seu próximo projeto. Vamos usar os recursos que vimos até aqui nesta base.\n",
    "\n",
    "|variavel|descrição|\n",
    "|-|-|\n",
    "|data_ref                | Data de referência de coleta das variáveis |\n",
    "|index                   | Código de identificação do cliente|\n",
    "|sexo                    | Sexo do cliente|\n",
    "|posse_de_veiculo        | Indica se o cliente possui veículo|\n",
    "|posse_de_imovel         | Indica se o cliente possui imóvel|\n",
    "|qtd_filhos              | Quantidade de filhos do cliente|\n",
    "|tipo_renda              | Tipo de renda do cliente|\n",
    "|educacao                | Grau de instrução do cliente|\n",
    "|estado_civil            | Estado civil do cliente|\n",
    "|tipo_residencia         | Tipo de residência do cliente (própria, alugada etc)|\n",
    "|idade                   | Idade do cliente|\n",
    "|tempo_emprego           | Tempo no emprego atual|\n",
    "|qt_pessoas_residencia   | Quantidade de pessoas que moram na residência|\n",
    "|renda                   | Renda em reais|"
   ]
  },
  {
   "cell_type": "code",
   "execution_count": 18,
   "metadata": {},
   "outputs": [],
   "source": [
    "import numpy as np\n",
    "import pandas as pd\n",
    "import statsmodels.api as sm\n",
    "from patsy import dmatrices"
   ]
  },
  {
   "cell_type": "code",
   "execution_count": 19,
   "metadata": {},
   "outputs": [
    {
     "name": "stdout",
     "output_type": "stream",
     "text": [
      "<class 'pandas.core.frame.DataFrame'>\n",
      "RangeIndex: 15000 entries, 0 to 14999\n",
      "Data columns (total 14 columns):\n",
      " #   Column                 Non-Null Count  Dtype  \n",
      "---  ------                 --------------  -----  \n",
      " 0   data_ref               15000 non-null  object \n",
      " 1   id_cliente             15000 non-null  int64  \n",
      " 2   sexo                   15000 non-null  object \n",
      " 3   posse_de_veiculo       15000 non-null  bool   \n",
      " 4   posse_de_imovel        15000 non-null  bool   \n",
      " 5   qtd_filhos             15000 non-null  int64  \n",
      " 6   tipo_renda             15000 non-null  object \n",
      " 7   educacao               15000 non-null  object \n",
      " 8   estado_civil           15000 non-null  object \n",
      " 9   tipo_residencia        15000 non-null  object \n",
      " 10  idade                  15000 non-null  int64  \n",
      " 11  tempo_emprego          12427 non-null  float64\n",
      " 12  qt_pessoas_residencia  15000 non-null  float64\n",
      " 13  renda                  15000 non-null  float64\n",
      "dtypes: bool(2), float64(3), int64(3), object(6)\n",
      "memory usage: 1.4+ MB\n"
     ]
    }
   ],
   "source": [
    "df = pd.read_csv('previsao_de_renda.csv')\n",
    "df.drop(columns='Unnamed: 0', inplace=True)\n",
    "df.info()"
   ]
  },
  {
   "cell_type": "markdown",
   "metadata": {},
   "source": [
    "1. Ajuste um modelo para prever log(renda) considerando todas as covariáveis disponíveis.\n",
    "    - Utilizando os recursos do Patsy, coloque as variáveis qualitativas como *dummies*.\n",
    "    - Mantenha sempre a categoria mais frequente como casela de referência\n",
    "    - Avalie os parâmetros e veja se parecem fazer sentido prático.  \n",
    "\n",
    "\n",
    "2. Remova a variável menos significante e analise:\n",
    "    - Observe os indicadores que vimos, e avalie se o modelo melhorou ou piorou na sua opinião.\n",
    "    - Observe os parâmetros e veja se algum se alterou muito.  \n",
    "\n",
    "\n",
    "3. Siga removendo as variáveis menos significantes, sempre que o *p-value* for menor que 5%. Compare o modelo final com o inicial. Observe os indicadores e conclua se o modelo parece melhor. \n",
    "    "
   ]
  },
  {
   "cell_type": "code",
   "execution_count": 23,
   "metadata": {},
   "outputs": [
    {
     "name": "stdout",
     "output_type": "stream",
     "text": [
      "                            OLS Regression Results                            \n",
      "==============================================================================\n",
      "Dep. Variable:          np.log(renda)   R-squared:                       0.357\n",
      "Model:                            OLS   Adj. R-squared:                  0.356\n",
      "Method:                 Least Squares   F-statistic:                     287.5\n",
      "Date:                Tue, 05 Dec 2023   Prob (F-statistic):               0.00\n",
      "Time:                        23:43:05   Log-Likelihood:                -13568.\n",
      "No. Observations:               12427   AIC:                         2.719e+04\n",
      "Df Residuals:                   12402   BIC:                         2.737e+04\n",
      "Df Model:                          24                                         \n",
      "Covariance Type:            nonrobust                                         \n",
      "====================================================================================================\n",
      "                                       coef    std err          t      P>|t|      [0.025      0.975]\n",
      "----------------------------------------------------------------------------------------------------\n",
      "Intercept                            6.5847      0.235     28.006      0.000       6.124       7.046\n",
      "sexo[T.M]                            0.7874      0.015     53.723      0.000       0.759       0.816\n",
      "posse_de_veiculo[T.True]             0.0441      0.014      3.119      0.002       0.016       0.072\n",
      "posse_de_imovel[T.True]              0.0829      0.014      5.926      0.000       0.055       0.110\n",
      "tipo_renda[T.Bolsista]               0.2209      0.241      0.916      0.360      -0.252       0.694\n",
      "tipo_renda[T.Empresário]             0.1551      0.015     10.387      0.000       0.126       0.184\n",
      "tipo_renda[T.Pensionista]           -0.3087      0.241     -1.280      0.201      -0.782       0.164\n",
      "tipo_renda[T.Servidor público]       0.0576      0.022      2.591      0.010       0.014       0.101\n",
      "educacao[T.Pós graduação]            0.1071      0.159      0.673      0.501      -0.205       0.419\n",
      "educacao[T.Secundário]              -0.0141      0.072     -0.196      0.844      -0.155       0.127\n",
      "educacao[T.Superior completo]        0.0938      0.072      1.298      0.194      -0.048       0.235\n",
      "educacao[T.Superior incompleto]     -0.0432      0.078     -0.555      0.579      -0.196       0.109\n",
      "estado_civil[T.Separado]             0.3265      0.111      2.935      0.003       0.108       0.545\n",
      "estado_civil[T.Solteiro]             0.2672      0.109      2.453      0.014       0.054       0.481\n",
      "estado_civil[T.União]               -0.0343      0.025     -1.361      0.174      -0.084       0.015\n",
      "estado_civil[T.Viúvo]                0.3689      0.116      3.191      0.001       0.142       0.596\n",
      "tipo_residencia[T.Casa]             -0.0442      0.054     -0.815      0.415      -0.150       0.062\n",
      "tipo_residencia[T.Com os pais]      -0.0258      0.060     -0.427      0.670      -0.144       0.093\n",
      "tipo_residencia[T.Comunitário]      -0.1196      0.105     -1.135      0.256      -0.326       0.087\n",
      "tipo_residencia[T.Estúdio]           0.0665      0.099      0.670      0.503      -0.128       0.261\n",
      "tipo_residencia[T.Governamental]    -0.0571      0.066     -0.865      0.387      -0.186       0.072\n",
      "qtd_filhos                          -0.2658      0.108     -2.463      0.014      -0.477      -0.054\n",
      "idade                                0.0053      0.001      6.624      0.000       0.004       0.007\n",
      "tempo_emprego                        0.0617      0.001     59.398      0.000       0.060       0.064\n",
      "qt_pessoas_residencia                0.2926      0.108      2.716      0.007       0.081       0.504\n",
      "==============================================================================\n",
      "Omnibus:                        0.858   Durbin-Watson:                   2.023\n",
      "Prob(Omnibus):                  0.651   Jarque-Bera (JB):                0.839\n",
      "Skew:                           0.019   Prob(JB):                        0.657\n",
      "Kurtosis:                       3.012   Cond. No.                     2.18e+03\n",
      "==============================================================================\n",
      "\n",
      "Notes:\n",
      "[1] Standard Errors assume that the covariance matrix of the errors is correctly specified.\n",
      "[2] The condition number is large, 2.18e+03. This might indicate that there are\n",
      "strong multicollinearity or other numerical problems.\n"
     ]
    }
   ],
   "source": [
    "#1\n",
    "y, X = dmatrices('np.log(renda) ~ sexo + posse_de_veiculo + posse_de_imovel + qtd_filhos + tipo_renda + educacao + estado_civil + tipo_residencia + idade + tempo_emprego + qt_pessoas_residencia', data=df, return_type='dataframe')\n",
    "modelo = sm.OLS(y, X)\n",
    "resultado = modelo.fit()\n",
    "print(resultado.summary())"
   ]
  },
  {
   "cell_type": "markdown",
   "metadata": {},
   "source": [
    "- Os resultados indicam que algumas variáveis, como sexo, posse de veículo, posse de imóvel e tipo de renda para empresários e servidores públicos, têm uma associação significativa com o logaritmo da renda enquanto outras variáveis, como nível de educação e tipo de renda para bolsistas e pensionistas, não mostraram significância estatística. \n",
    "\n",
    "- Isso sugere que essas variáveis podem não ter um impacto forte ou consistente na renda dos indivíduos na amostra analisada."
   ]
  },
  {
   "cell_type": "code",
   "execution_count": 24,
   "metadata": {},
   "outputs": [
    {
     "name": "stdout",
     "output_type": "stream",
     "text": [
      "                            OLS Regression Results                            \n",
      "==============================================================================\n",
      "Dep. Variable:          np.log(renda)   R-squared:                       0.357\n",
      "Model:                            OLS   Adj. R-squared:                  0.356\n",
      "Method:                 Least Squares   F-statistic:                     300.0\n",
      "Date:                Tue, 05 Dec 2023   Prob (F-statistic):               0.00\n",
      "Time:                        23:43:10   Log-Likelihood:                -13568.\n",
      "No. Observations:               12427   AIC:                         2.718e+04\n",
      "Df Residuals:                   12403   BIC:                         2.736e+04\n",
      "Df Model:                          23                                         \n",
      "Covariance Type:            nonrobust                                         \n",
      "====================================================================================================\n",
      "                                       coef    std err          t      P>|t|      [0.025      0.975]\n",
      "----------------------------------------------------------------------------------------------------\n",
      "Intercept                            6.6056      0.233     28.344      0.000       6.149       7.062\n",
      "sexo[T.M]                            0.7871      0.015     53.726      0.000       0.758       0.816\n",
      "posse_de_veiculo[T.True]             0.0443      0.014      3.137      0.002       0.017       0.072\n",
      "posse_de_imovel[T.True]              0.0831      0.014      5.940      0.000       0.056       0.110\n",
      "tipo_renda[T.Bolsista]               0.2209      0.241      0.916      0.360      -0.252       0.694\n",
      "tipo_renda[T.Empresário]             0.1554      0.015     10.412      0.000       0.126       0.185\n",
      "tipo_renda[T.Pensionista]           -0.3089      0.241     -1.280      0.200      -0.782       0.164\n",
      "tipo_renda[T.Servidor público]       0.0576      0.022      2.593      0.010       0.014       0.101\n",
      "educacao[T.Secundário]              -0.0359      0.064     -0.557      0.577      -0.162       0.090\n",
      "educacao[T.Superior completo]        0.0720      0.065      1.114      0.265      -0.055       0.199\n",
      "educacao[T.Superior incompleto]     -0.0649      0.071     -0.916      0.360      -0.204       0.074\n",
      "estado_civil[T.Separado]             0.3262      0.111      2.933      0.003       0.108       0.544\n",
      "estado_civil[T.Solteiro]             0.2675      0.109      2.456      0.014       0.054       0.481\n",
      "estado_civil[T.União]               -0.0345      0.025     -1.371      0.170      -0.084       0.015\n",
      "estado_civil[T.Viúvo]                0.3682      0.116      3.185      0.001       0.142       0.595\n",
      "tipo_residencia[T.Casa]             -0.0439      0.054     -0.811      0.418      -0.150       0.062\n",
      "tipo_residencia[T.Com os pais]      -0.0258      0.060     -0.427      0.670      -0.144       0.093\n",
      "tipo_residencia[T.Comunitário]      -0.1214      0.105     -1.153      0.249      -0.328       0.085\n",
      "tipo_residencia[T.Estúdio]           0.0667      0.099      0.672      0.502      -0.128       0.261\n",
      "tipo_residencia[T.Governamental]    -0.0572      0.066     -0.867      0.386      -0.187       0.072\n",
      "qtd_filhos                          -0.2657      0.108     -2.461      0.014      -0.477      -0.054\n",
      "idade                                0.0053      0.001      6.641      0.000       0.004       0.007\n",
      "tempo_emprego                        0.0617      0.001     59.398      0.000       0.060       0.064\n",
      "qt_pessoas_residencia                0.2926      0.108      2.715      0.007       0.081       0.504\n",
      "==============================================================================\n",
      "Omnibus:                        0.850   Durbin-Watson:                   2.023\n",
      "Prob(Omnibus):                  0.654   Jarque-Bera (JB):                0.830\n",
      "Skew:                           0.019   Prob(JB):                        0.660\n",
      "Kurtosis:                       3.012   Cond. No.                     2.17e+03\n",
      "==============================================================================\n",
      "\n",
      "Notes:\n",
      "[1] Standard Errors assume that the covariance matrix of the errors is correctly specified.\n",
      "[2] The condition number is large, 2.17e+03. This might indicate that there are\n",
      "strong multicollinearity or other numerical problems.\n"
     ]
    }
   ],
   "source": [
    "#2\n",
    "y, X = dmatrices('np.log(renda) ~ sexo + posse_de_veiculo + posse_de_imovel + qtd_filhos + tipo_renda + educacao + estado_civil + tipo_residencia + idade + tempo_emprego + qt_pessoas_residencia', data=df, return_type='dataframe')\n",
    "X = X.drop(columns='educacao[T.Pós graduação]')\n",
    "modelo_atualizado = sm.OLS(y, X)\n",
    "resultado_atualizado = modelo_atualizado.fit()\n",
    "print(resultado_atualizado.summary())"
   ]
  },
  {
   "cell_type": "markdown",
   "metadata": {},
   "source": [
    "- O modelo inicial era mais robusto e explicativo para a previsão do logaritmo da renda. \n",
    "\n",
    "- A remoção da variável 'educacao[T.Pós graduação]' não melhorou o modelo e na verdade resultou em uma perda significativa de poder explicativo."
   ]
  },
  {
   "cell_type": "code",
   "execution_count": 26,
   "metadata": {},
   "outputs": [
    {
     "name": "stdout",
     "output_type": "stream",
     "text": [
      "                            OLS Regression Results                            \n",
      "==============================================================================\n",
      "Dep. Variable:          np.log(renda)   R-squared:                       0.357\n",
      "Model:                            OLS   Adj. R-squared:                  0.356\n",
      "Method:                 Least Squares   F-statistic:                     313.6\n",
      "Date:                Tue, 05 Dec 2023   Prob (F-statistic):               0.00\n",
      "Time:                        23:52:57   Log-Likelihood:                -13568.\n",
      "No. Observations:               12427   AIC:                         2.718e+04\n",
      "Df Residuals:                   12404   BIC:                         2.735e+04\n",
      "Df Model:                          22                                         \n",
      "Covariance Type:            nonrobust                                         \n",
      "====================================================================================================\n",
      "                                       coef    std err          t      P>|t|      [0.025      0.975]\n",
      "----------------------------------------------------------------------------------------------------\n",
      "Intercept                            6.5709      0.225     29.261      0.000       6.131       7.011\n",
      "sexo[T.M]                            0.7872      0.015     53.734      0.000       0.758       0.816\n",
      "posse_de_veiculo[T.True]             0.0444      0.014      3.142      0.002       0.017       0.072\n",
      "posse_de_imovel[T.True]              0.0832      0.014      5.955      0.000       0.056       0.111\n",
      "tipo_renda[T.Bolsista]               0.2211      0.241      0.917      0.359      -0.252       0.694\n",
      "tipo_renda[T.Empresário]             0.1554      0.015     10.409      0.000       0.126       0.185\n",
      "tipo_renda[T.Pensionista]           -0.3089      0.241     -1.280      0.200      -0.782       0.164\n",
      "tipo_renda[T.Servidor público]       0.0575      0.022      2.586      0.010       0.014       0.101\n",
      "educacao[T.Superior completo]        0.1072      0.014      7.742      0.000       0.080       0.134\n",
      "educacao[T.Superior incompleto]     -0.0297      0.032     -0.923      0.356      -0.093       0.033\n",
      "estado_civil[T.Separado]             0.3263      0.111      2.933      0.003       0.108       0.544\n",
      "estado_civil[T.Solteiro]             0.2674      0.109      2.456      0.014       0.054       0.481\n",
      "estado_civil[T.União]               -0.0344      0.025     -1.368      0.171      -0.084       0.015\n",
      "estado_civil[T.Viúvo]                0.3689      0.116      3.191      0.001       0.142       0.595\n",
      "tipo_residencia[T.Casa]             -0.0439      0.054     -0.811      0.418      -0.150       0.062\n",
      "tipo_residencia[T.Com os pais]      -0.0255      0.060     -0.423      0.672      -0.144       0.093\n",
      "tipo_residencia[T.Comunitário]      -0.1182      0.105     -1.124      0.261      -0.324       0.088\n",
      "tipo_residencia[T.Estúdio]           0.0665      0.099      0.670      0.503      -0.128       0.261\n",
      "tipo_residencia[T.Governamental]    -0.0569      0.066     -0.862      0.389      -0.186       0.072\n",
      "qtd_filhos                          -0.2657      0.108     -2.461      0.014      -0.477      -0.054\n",
      "idade                                0.0053      0.001      6.627      0.000       0.004       0.007\n",
      "tempo_emprego                        0.0617      0.001     59.398      0.000       0.060       0.064\n",
      "qt_pessoas_residencia                0.2926      0.108      2.715      0.007       0.081       0.504\n",
      "==============================================================================\n",
      "Omnibus:                        0.829   Durbin-Watson:                   2.023\n",
      "Prob(Omnibus):                  0.661   Jarque-Bera (JB):                0.809\n",
      "Skew:                           0.019   Prob(JB):                        0.667\n",
      "Kurtosis:                       3.013   Cond. No.                     2.15e+03\n",
      "==============================================================================\n",
      "\n",
      "Notes:\n",
      "[1] Standard Errors assume that the covariance matrix of the errors is correctly specified.\n",
      "[2] The condition number is large, 2.15e+03. This might indicate that there are\n",
      "strong multicollinearity or other numerical problems.\n"
     ]
    }
   ],
   "source": [
    "#3\n",
    "y, X = dmatrices('np.log(renda) ~ sexo + posse_de_veiculo + posse_de_imovel + qtd_filhos + tipo_renda + educacao + estado_civil + tipo_residencia + idade + tempo_emprego + qt_pessoas_residencia', data=df, return_type='dataframe')\n",
    "X = X.drop(columns=['educacao[T.Pós graduação]', 'educacao[T.Secundário]'])\n",
    "modelo_atualizado = sm.OLS(y, X)\n",
    "resultado_atualizado = modelo_atualizado.fit()\n",
    "print(resultado_atualizado.summary())"
   ]
  },
  {
   "cell_type": "markdown",
   "metadata": {},
   "source": [
    "- A remoção das variáveis menos significativas com base apenas no p-valor resultou em uma perda significativa de poder explicativo. \n",
    "\n",
    "- Isso sugere que, embora a simplificação do modelo seja uma prática comum para evitar o overfitting, é essencial considerar o equilíbrio entre simplicidade e capacidade explicativa do modelo."
   ]
  }
 ],
 "metadata": {
  "kernelspec": {
   "display_name": "Python 3",
   "language": "python",
   "name": "python3"
  },
  "language_info": {
   "codemirror_mode": {
    "name": "ipython",
    "version": 3
   },
   "file_extension": ".py",
   "mimetype": "text/x-python",
   "name": "python",
   "nbconvert_exporter": "python",
   "pygments_lexer": "ipython3",
   "version": "3.11.5"
  }
 },
 "nbformat": 4,
 "nbformat_minor": 4
}
