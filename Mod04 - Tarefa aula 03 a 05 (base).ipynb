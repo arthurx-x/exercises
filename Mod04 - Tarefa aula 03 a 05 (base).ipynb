{
 "cells": [
  {
   "cell_type": "markdown",
   "metadata": {},
   "source": [
    "## Exercício 1: Vestibular\n",
    "\n",
    "Considere que a os dados gerados na célula abaixo contêm o número de acertos de 100 alunos em um vestibular para um curso de exatas, divididas pelos respectivos assuntos. Considere que cada assunto possui um número de questões conforme a tabela abaixo:\n",
    "\n",
    "| assunto | número de questões |\n",
    "|:---:|:---:|\n",
    "| Matemática | 24 |\n",
    "| Português | 18 |\n",
    "| Geografia | 8 |\n",
    "| Inglês | 8 |\n",
    "| História | 8 |\n",
    "| Física | 12 |\n",
    "| Química | 12 |\n",
    "\n",
    "Usando os comandos de operações com DataFrames que você aprendeu na Aula 03, calcule:\n",
    "\n",
    "1. (operações com escalar) Calcule o percentual de acerto dos alunos por assunto.  \n",
    "2. (operações entre *DataFrames) Calcule o total de acertos de cada aluno.  \n",
    "3. Calcule o porcentual geral de cada aluno.  \n",
    "4. Suponha que a nota de corte para a segunda fase seja 45. Quantos alunos tiveram nota maior que 45?  "
   ]
  },
  {
   "cell_type": "code",
   "execution_count": 145,
   "metadata": {},
   "outputs": [],
   "source": [
    "import pandas as pd\n",
    "import numpy as np\n",
    "\n",
    "np.random.seed(42)\n",
    "df_mat = pd.DataFrame(np.random.randint(24, size=(100, 1)), columns=['Qt_acertos'])\n",
    "df_por = pd.DataFrame(np.random.randint(18, size=(100, 1)), columns=['Qt_acertos'])\n",
    "df_geo = pd.DataFrame(np.random.randint(8, size=(100, 1)), columns=['Qt_acertos'])\n",
    "df_ing = pd.DataFrame(np.random.randint(8, size=(100, 1)), columns=['Qt_acertos'])\n",
    "df_his = pd.DataFrame(np.random.randint(8, size=(100, 1)), columns=['Qt_acertos'])\n",
    "df_fis = pd.DataFrame(np.random.randint(12, size=(100, 1)), columns=['Qt_acertos'])\n",
    "df_qui = pd.DataFrame(np.random.randint(12, size=(100, 1)), columns=['Qt_acertos'])"
   ]
  },
  {
   "cell_type": "code",
   "execution_count": 146,
   "metadata": {},
   "outputs": [
    {
     "name": "stdout",
     "output_type": "stream",
     "text": [
      "1. Percentual de acerto por assunto:\n",
      "   Qt_acertos\n",
      "0   25.000000\n",
      "1   79.166667\n",
      "2   58.333333\n",
      "3   41.666667\n",
      "4   29.166667\n"
     ]
    }
   ],
   "source": [
    "# 1) Seu código aqui\n",
    "pc_mat = df_mat / 24 * 100\n",
    "pc_por = df_por / 18 * 100\n",
    "pc_geo = df_geo / 8 * 100\n",
    "pc_ing = df_ing / 8 * 100\n",
    "pc_his = df_his / 8 * 100\n",
    "pc_fis = df_fis / 12 * 100\n",
    "pc_qui = df_qui / 12 * 100\n",
    "\n",
    "print(\"1. Percentual de acerto por assunto:\")\n",
    "print(pc_mat.head())"
   ]
  },
  {
   "cell_type": "code",
   "execution_count": 147,
   "metadata": {},
   "outputs": [
    {
     "name": "stdout",
     "output_type": "stream",
     "text": [
      "\n",
      "2. Total de acertos por aluno:\n",
      "   Qt_acertos\n",
      "0          35\n",
      "1          48\n",
      "2          50\n",
      "3          32\n",
      "4          30\n"
     ]
    }
   ],
   "source": [
    "# 2) Seu código aqui\n",
    "total = df_mat + df_por + df_geo + df_ing + df_his + df_fis + df_qui\n",
    "\n",
    "print(\"\\n2. Total de acertos por aluno:\")\n",
    "print(total.head())"
   ]
  },
  {
   "cell_type": "code",
   "execution_count": 177,
   "metadata": {},
   "outputs": [
    {
     "name": "stdout",
     "output_type": "stream",
     "text": [
      "3. Percentual geral de cada aluno:\n",
      "   Qt_acertos\n",
      "0   38.888889\n",
      "1   53.333333\n",
      "2   55.555556\n",
      "3   35.555556\n",
      "4   33.333333\n"
     ]
    }
   ],
   "source": [
    "# 3) Seu código aqui\n",
    "percentual_geral = total / 90 * 100\n",
    "\n",
    "print(\"3. Percentual geral de cada aluno:\")\n",
    "print(percentual_geral.head())"
   ]
  },
  {
   "cell_type": "code",
   "execution_count": 178,
   "metadata": {},
   "outputs": [
    {
     "name": "stdout",
     "output_type": "stream",
     "text": [
      "4. Número de alunos com nota maior que 45:\n",
      "31\n"
     ]
    }
   ],
   "source": [
    "# 4) Seu código aqui\n",
    "num_alunos_gt_45 = total[total['Qt_acertos'] > 45].shape[0]\n",
    "\n",
    "print(\"4. Número de alunos com nota maior que 45:\")\n",
    "print(num_alunos_gt_45)"
   ]
  },
  {
   "cell_type": "markdown",
   "metadata": {},
   "source": [
    "## 2) Vestibular II\n",
    "\n",
    "Ainda sobre o mesmo banco de dados:\n",
    "\n",
    "1. Neste vestibular, quem 'zera' em matemática, física ou química está desqualificado. Monte um novo *DataFrame* com os alunos desqualificados por este critério.\n",
    "2. Quantos são esses alunos?\n",
    "3. Qual a média desses alunos em história e geografia?\n",
    "4. Monte um *DataFrame* com os alunos que passaram para a segunda fase. Repare que estes alunos não podem ter sido desqualificados."
   ]
  },
  {
   "cell_type": "code",
   "execution_count": 179,
   "metadata": {},
   "outputs": [
    {
     "name": "stdout",
     "output_type": "stream",
     "text": [
      "1. Novo DataFrame com alunos desqualificados:\n",
      "    Qt_acertos\n",
      "3           32\n",
      "6           29\n",
      "10          31\n",
      "12          42\n",
      "14          31\n",
      "\n",
      "2. Número de alunos desqualificados: 23\n",
      "\n",
      "3. Média desses alunos em História e Geografia:\n",
      "37.17391304347826\n",
      "\n",
      "4. DataFrame com alunos que passaram para a segunda fase:\n",
      "   Qt_acertos\n",
      "0          35\n",
      "1          48\n",
      "2          50\n",
      "4          30\n",
      "5          50\n"
     ]
    }
   ],
   "source": [
    "# seu código aqui\n",
    "df_eliminados = total[(df_mat['Qt_acertos'] == 0) | \n",
    "                      (df_fis['Qt_acertos'] == 0) | \n",
    "                      (df_qui['Qt_acertos'] == 0)]\n",
    "\n",
    "num_alunos_eliminados = len(df_eliminados)\n",
    "\n",
    "media_hist_geo_eliminados = df_eliminados[['Qt_acertos']].mean().squeeze()\n",
    "\n",
    "df_segunda_fase = total[(df_mat['Qt_acertos'] > 0) & \n",
    "                        (df_fis['Qt_acertos'] > 0) & \n",
    "                        (df_qui['Qt_acertos'] > 0)]\n",
    "\n",
    "# Exibindo os resultados\n",
    "print(\"1. Novo DataFrame com alunos desqualificados:\")\n",
    "print(df_eliminados.head())\n",
    "\n",
    "print(\"\\n2. Número de alunos desqualificados:\", num_alunos_eliminados)\n",
    "\n",
    "print(\"\\n3. Média desses alunos em História e Geografia:\")\n",
    "print(media_hist_geo_eliminados)\n",
    "\n",
    "print(\"\\n4. DataFrame com alunos que passaram para a segunda fase:\")\n",
    "print(df_segunda_fase.head())"
   ]
  },
  {
   "cell_type": "markdown",
   "metadata": {},
   "source": [
    "## 3) Vacinações no Acre\n",
    "Vamos trabalhar agora com a base de vacinações no Acre. Para facilitar a sua vida, copiamos o link do arquivo na célula abaixo.\n",
    "\n",
    "1. Quantas vacinas estão registradas nessa base?  \n",
    "2. Quantos pacientes foram vacinados? (considere um paciente para cada valor único de ```paciente_id```)  \n",
    "3. Quantos pacientes únicos tomaram a primeira dose? OBS: Há um caractere especial neste campo. Receba os valores do campo com o método ```.unique()```.   \n",
    "4. Quantos pacientes com menos de 18 anos foram vacinados?  \n",
    "5. Quantos estabelecimentos aplicaram vacina no Acre?\n",
    "\n",
    "\n",
    "**OBS:** O portal do DATASUS pode apresentar instabilidades, retornando um erro na segunda célula abaixo. Por este motivo está disponível uma base estática, que se for baixada para o seu *working directory* pode ser lida com este comando: ```df = pd.read_csv('registros de vacinacao covid ACRE.csv', sep=';')```.\n",
    "\n",
    "**OBS2:** Para saber qual é o seu working directory, rode no jupyter: ```!pwd```."
   ]
  },
  {
   "cell_type": "code",
   "execution_count": 190,
   "metadata": {},
   "outputs": [],
   "source": [
    "df = pd.read_csv('registros de vacinacao covid ACRE.csv', sep=';')"
   ]
  },
  {
   "cell_type": "code",
   "execution_count": 191,
   "metadata": {},
   "outputs": [
    {
     "data": {
      "text/html": [
       "<div>\n",
       "<style scoped>\n",
       "    .dataframe tbody tr th:only-of-type {\n",
       "        vertical-align: middle;\n",
       "    }\n",
       "\n",
       "    .dataframe tbody tr th {\n",
       "        vertical-align: top;\n",
       "    }\n",
       "\n",
       "    .dataframe thead th {\n",
       "        text-align: right;\n",
       "    }\n",
       "</style>\n",
       "<table border=\"1\" class=\"dataframe\">\n",
       "  <thead>\n",
       "    <tr style=\"text-align: right;\">\n",
       "      <th></th>\n",
       "      <th>document_id</th>\n",
       "      <th>paciente_id</th>\n",
       "      <th>paciente_idade</th>\n",
       "      <th>paciente_datanascimento</th>\n",
       "      <th>paciente_enumsexobiologico</th>\n",
       "      <th>paciente_racacor_codigo</th>\n",
       "      <th>paciente_racacor_valor</th>\n",
       "      <th>paciente_endereco_coibgemunicipio</th>\n",
       "      <th>paciente_endereco_copais</th>\n",
       "      <th>paciente_endereco_nmmunicipio</th>\n",
       "      <th>paciente_endereco_nmpais</th>\n",
       "      <th>paciente_endereco_uf</th>\n",
       "      <th>paciente_endereco_cep</th>\n",
       "      <th>paciente_nacionalidade_enumnacionalidade</th>\n",
       "      <th>estabelecimento_valor</th>\n",
       "      <th>estabelecimento_razaosocial</th>\n",
       "      <th>estalecimento_nofantasia</th>\n",
       "      <th>estabelecimento_municipio_codigo</th>\n",
       "      <th>estabelecimento_municipio_nome</th>\n",
       "      <th>estabelecimento_uf</th>\n",
       "      <th>vacina_grupoatendimento_codigo</th>\n",
       "      <th>vacina_grupoatendimento_nome</th>\n",
       "      <th>vacina_categoria_codigo</th>\n",
       "      <th>vacina_categoria_nome</th>\n",
       "      <th>vacina_lote</th>\n",
       "      <th>vacina_fabricante_nome</th>\n",
       "      <th>vacina_fabricante_referencia</th>\n",
       "      <th>vacina_dataaplicacao</th>\n",
       "      <th>vacina_descricao_dose</th>\n",
       "      <th>vacina_codigo</th>\n",
       "      <th>vacina_nome</th>\n",
       "      <th>sistema_origem</th>\n",
       "      <th>data_importacao_rnds</th>\n",
       "      <th>id_sistema_origem</th>\n",
       "    </tr>\n",
       "  </thead>\n",
       "  <tbody>\n",
       "    <tr>\n",
       "      <th>0</th>\n",
       "      <td>b19cd280-474c-4c22-a35d-8c06bc04a4e0-i0b0</td>\n",
       "      <td>2e091c9a37d3f50d1d705fc80c6448c6fc69b44da9e936...</td>\n",
       "      <td>69</td>\n",
       "      <td>1951-12-28</td>\n",
       "      <td>F</td>\n",
       "      <td>3</td>\n",
       "      <td>PARDA</td>\n",
       "      <td>120050.0</td>\n",
       "      <td>10.0</td>\n",
       "      <td>SENA MADUREIRA</td>\n",
       "      <td>BRASIL</td>\n",
       "      <td>AC</td>\n",
       "      <td>69940.0</td>\n",
       "      <td>B</td>\n",
       "      <td>3541592</td>\n",
       "      <td>PREFEITURA MUNICIPAL DE SENA MADUREIRA</td>\n",
       "      <td>UNIDADE BASICA DE SAUDE MARIA DAS DORES DE PAULA</td>\n",
       "      <td>120050</td>\n",
       "      <td>SENA MADUREIRA</td>\n",
       "      <td>AC</td>\n",
       "      <td>202</td>\n",
       "      <td>Pessoas de 65 a 69 anos</td>\n",
       "      <td>2.0</td>\n",
       "      <td>Faixa Etária</td>\n",
       "      <td>210052A</td>\n",
       "      <td>FUNDACAO BUTANTAN</td>\n",
       "      <td>Organization/61189445000156</td>\n",
       "      <td>2021-03-23</td>\n",
       "      <td>1ª Dose</td>\n",
       "      <td>86</td>\n",
       "      <td>Covid-19-Coronavac-Sinovac/Butantan</td>\n",
       "      <td>Novo PNI</td>\n",
       "      <td>2021-03-25T03:27:19.000Z</td>\n",
       "      <td>NaN</td>\n",
       "    </tr>\n",
       "    <tr>\n",
       "      <th>1</th>\n",
       "      <td>a1acc0b6-1cf6-4c4b-adcb-06b473a0faaf-i0b0</td>\n",
       "      <td>f4e17a9e5354cb45e223d85eda02fb2f76048c801675f5...</td>\n",
       "      <td>81</td>\n",
       "      <td>1939-11-22</td>\n",
       "      <td>M</td>\n",
       "      <td>3</td>\n",
       "      <td>PARDA</td>\n",
       "      <td>120040.0</td>\n",
       "      <td>10.0</td>\n",
       "      <td>RIO BRANCO</td>\n",
       "      <td>BRASIL</td>\n",
       "      <td>AC</td>\n",
       "      <td>69908.0</td>\n",
       "      <td>B</td>\n",
       "      <td>6917291</td>\n",
       "      <td>PREFEITURA MUNICIPAL DE RIO BRANCO</td>\n",
       "      <td>DEPARTAMENTO DE VIGILANCIA EPIDEMIOLOGICA E AM...</td>\n",
       "      <td>120040</td>\n",
       "      <td>RIO BRANCO</td>\n",
       "      <td>AC</td>\n",
       "      <td>205</td>\n",
       "      <td>Pessoas de 80 anos ou mais</td>\n",
       "      <td>2.0</td>\n",
       "      <td>Faixa Etária</td>\n",
       "      <td>210110</td>\n",
       "      <td>FUNDACAO BUTANTAN</td>\n",
       "      <td>Organization/61189445000156</td>\n",
       "      <td>2021-04-29</td>\n",
       "      <td>2ª Dose</td>\n",
       "      <td>86</td>\n",
       "      <td>Covid-19-Coronavac-Sinovac/Butantan</td>\n",
       "      <td>Novo PNI</td>\n",
       "      <td>2021-04-30T16:03:14.000Z</td>\n",
       "      <td>NaN</td>\n",
       "    </tr>\n",
       "    <tr>\n",
       "      <th>2</th>\n",
       "      <td>af279a98-ba1f-47ea-8214-314a98040b0d-i0b0</td>\n",
       "      <td>6734b26bccf826130ebffa66575977bbe71477b12bcf42...</td>\n",
       "      <td>69</td>\n",
       "      <td>1951-08-14</td>\n",
       "      <td>M</td>\n",
       "      <td>4</td>\n",
       "      <td>AMARELA</td>\n",
       "      <td>120020.0</td>\n",
       "      <td>10.0</td>\n",
       "      <td>CRUZEIRO DO SUL</td>\n",
       "      <td>BRASIL</td>\n",
       "      <td>AC</td>\n",
       "      <td>69980.0</td>\n",
       "      <td>B</td>\n",
       "      <td>6159087</td>\n",
       "      <td>PREFEITURA MUNICIPAL DE CRUZEIRO DO SUL</td>\n",
       "      <td>SECRETARIA MUNICIPAL DE SAUDE DE CRUZEIRO DO SUL</td>\n",
       "      <td>120020</td>\n",
       "      <td>CRUZEIRO DO SUL</td>\n",
       "      <td>AC</td>\n",
       "      <td>202</td>\n",
       "      <td>Pessoas de 65 a 69 anos</td>\n",
       "      <td>2.0</td>\n",
       "      <td>Faixa Etária</td>\n",
       "      <td>210135</td>\n",
       "      <td>FUNDACAO BUTANTAN</td>\n",
       "      <td>Organization/61189445000156</td>\n",
       "      <td>2021-04-16</td>\n",
       "      <td>1ª Dose</td>\n",
       "      <td>86</td>\n",
       "      <td>Covid-19-Coronavac-Sinovac/Butantan</td>\n",
       "      <td>Novo PNI</td>\n",
       "      <td>2021-04-16T15:54:39.000Z</td>\n",
       "      <td>NaN</td>\n",
       "    </tr>\n",
       "    <tr>\n",
       "      <th>3</th>\n",
       "      <td>4879308e-5050-46bb-b8e2-11fa5646a05c-i0b0</td>\n",
       "      <td>84a341fd350c1ba7117fccbb4d2df417bc0fac0fffac37...</td>\n",
       "      <td>51</td>\n",
       "      <td>1969-12-15</td>\n",
       "      <td>F</td>\n",
       "      <td>3</td>\n",
       "      <td>PARDA</td>\n",
       "      <td>120040.0</td>\n",
       "      <td>10.0</td>\n",
       "      <td>RIO BRANCO</td>\n",
       "      <td>BRASIL</td>\n",
       "      <td>AC</td>\n",
       "      <td>69917.0</td>\n",
       "      <td>B</td>\n",
       "      <td>6917291</td>\n",
       "      <td>PREFEITURA MUNICIPAL DE RIO BRANCO</td>\n",
       "      <td>DEPARTAMENTO DE VIGILANCIA EPIDEMIOLOGICA E AM...</td>\n",
       "      <td>120040</td>\n",
       "      <td>RIO BRANCO</td>\n",
       "      <td>AC</td>\n",
       "      <td>923</td>\n",
       "      <td>Técnico de Enfermagem</td>\n",
       "      <td>9.0</td>\n",
       "      <td>Trabalhadores de Saúde</td>\n",
       "      <td>202010040</td>\n",
       "      <td>FUNDACAO BUTANTAN</td>\n",
       "      <td>Organization/61189445000156</td>\n",
       "      <td>2021-02-19</td>\n",
       "      <td>2ª Dose</td>\n",
       "      <td>86</td>\n",
       "      <td>Covid-19-Coronavac-Sinovac/Butantan</td>\n",
       "      <td>Novo PNI</td>\n",
       "      <td>2021-03-10T14:40:54.000Z</td>\n",
       "      <td>NaN</td>\n",
       "    </tr>\n",
       "    <tr>\n",
       "      <th>4</th>\n",
       "      <td>000e911b-e3a4-4114-a735-d1f2e6e3797f-i0b0</td>\n",
       "      <td>c59571e19f368d4b0cf08cd3bcabb32e5cd8baad5340f6...</td>\n",
       "      <td>65</td>\n",
       "      <td>1955-11-21</td>\n",
       "      <td>M</td>\n",
       "      <td>3</td>\n",
       "      <td>PARDA</td>\n",
       "      <td>120040.0</td>\n",
       "      <td>10.0</td>\n",
       "      <td>RIO BRANCO</td>\n",
       "      <td>BRASIL</td>\n",
       "      <td>AC</td>\n",
       "      <td>69911.0</td>\n",
       "      <td>B</td>\n",
       "      <td>6917291</td>\n",
       "      <td>PREFEITURA MUNICIPAL DE RIO BRANCO</td>\n",
       "      <td>DEPARTAMENTO DE VIGILANCIA EPIDEMIOLOGICA E AM...</td>\n",
       "      <td>120040</td>\n",
       "      <td>RIO BRANCO</td>\n",
       "      <td>AC</td>\n",
       "      <td>202</td>\n",
       "      <td>Pessoas de 65 a 69 anos</td>\n",
       "      <td>2.0</td>\n",
       "      <td>Faixa Etária</td>\n",
       "      <td>212VCD001ZVB</td>\n",
       "      <td>FUNDACAO OSWALDO CRUZ</td>\n",
       "      <td>Organization/33781055000135</td>\n",
       "      <td>2021-03-29</td>\n",
       "      <td>1ª Dose</td>\n",
       "      <td>85</td>\n",
       "      <td>Vacina Covid-19 - Covishield</td>\n",
       "      <td>Novo PNI</td>\n",
       "      <td>2021-04-03T19:44:28.000Z</td>\n",
       "      <td>NaN</td>\n",
       "    </tr>\n",
       "  </tbody>\n",
       "</table>\n",
       "</div>"
      ],
      "text/plain": [
       "                                 document_id  \\\n",
       "0  b19cd280-474c-4c22-a35d-8c06bc04a4e0-i0b0   \n",
       "1  a1acc0b6-1cf6-4c4b-adcb-06b473a0faaf-i0b0   \n",
       "2  af279a98-ba1f-47ea-8214-314a98040b0d-i0b0   \n",
       "3  4879308e-5050-46bb-b8e2-11fa5646a05c-i0b0   \n",
       "4  000e911b-e3a4-4114-a735-d1f2e6e3797f-i0b0   \n",
       "\n",
       "                                         paciente_id  paciente_idade  \\\n",
       "0  2e091c9a37d3f50d1d705fc80c6448c6fc69b44da9e936...              69   \n",
       "1  f4e17a9e5354cb45e223d85eda02fb2f76048c801675f5...              81   \n",
       "2  6734b26bccf826130ebffa66575977bbe71477b12bcf42...              69   \n",
       "3  84a341fd350c1ba7117fccbb4d2df417bc0fac0fffac37...              51   \n",
       "4  c59571e19f368d4b0cf08cd3bcabb32e5cd8baad5340f6...              65   \n",
       "\n",
       "  paciente_datanascimento paciente_enumsexobiologico  paciente_racacor_codigo  \\\n",
       "0              1951-12-28                          F                        3   \n",
       "1              1939-11-22                          M                        3   \n",
       "2              1951-08-14                          M                        4   \n",
       "3              1969-12-15                          F                        3   \n",
       "4              1955-11-21                          M                        3   \n",
       "\n",
       "  paciente_racacor_valor  paciente_endereco_coibgemunicipio  \\\n",
       "0                  PARDA                           120050.0   \n",
       "1                  PARDA                           120040.0   \n",
       "2                AMARELA                           120020.0   \n",
       "3                  PARDA                           120040.0   \n",
       "4                  PARDA                           120040.0   \n",
       "\n",
       "   paciente_endereco_copais paciente_endereco_nmmunicipio  \\\n",
       "0                      10.0                SENA MADUREIRA   \n",
       "1                      10.0                    RIO BRANCO   \n",
       "2                      10.0               CRUZEIRO DO SUL   \n",
       "3                      10.0                    RIO BRANCO   \n",
       "4                      10.0                    RIO BRANCO   \n",
       "\n",
       "  paciente_endereco_nmpais paciente_endereco_uf  paciente_endereco_cep  \\\n",
       "0                   BRASIL                   AC                69940.0   \n",
       "1                   BRASIL                   AC                69908.0   \n",
       "2                   BRASIL                   AC                69980.0   \n",
       "3                   BRASIL                   AC                69917.0   \n",
       "4                   BRASIL                   AC                69911.0   \n",
       "\n",
       "  paciente_nacionalidade_enumnacionalidade  estabelecimento_valor  \\\n",
       "0                                        B                3541592   \n",
       "1                                        B                6917291   \n",
       "2                                        B                6159087   \n",
       "3                                        B                6917291   \n",
       "4                                        B                6917291   \n",
       "\n",
       "               estabelecimento_razaosocial  \\\n",
       "0   PREFEITURA MUNICIPAL DE SENA MADUREIRA   \n",
       "1       PREFEITURA MUNICIPAL DE RIO BRANCO   \n",
       "2  PREFEITURA MUNICIPAL DE CRUZEIRO DO SUL   \n",
       "3       PREFEITURA MUNICIPAL DE RIO BRANCO   \n",
       "4       PREFEITURA MUNICIPAL DE RIO BRANCO   \n",
       "\n",
       "                            estalecimento_nofantasia  \\\n",
       "0   UNIDADE BASICA DE SAUDE MARIA DAS DORES DE PAULA   \n",
       "1  DEPARTAMENTO DE VIGILANCIA EPIDEMIOLOGICA E AM...   \n",
       "2   SECRETARIA MUNICIPAL DE SAUDE DE CRUZEIRO DO SUL   \n",
       "3  DEPARTAMENTO DE VIGILANCIA EPIDEMIOLOGICA E AM...   \n",
       "4  DEPARTAMENTO DE VIGILANCIA EPIDEMIOLOGICA E AM...   \n",
       "\n",
       "   estabelecimento_municipio_codigo estabelecimento_municipio_nome  \\\n",
       "0                            120050                 SENA MADUREIRA   \n",
       "1                            120040                     RIO BRANCO   \n",
       "2                            120020                CRUZEIRO DO SUL   \n",
       "3                            120040                     RIO BRANCO   \n",
       "4                            120040                     RIO BRANCO   \n",
       "\n",
       "  estabelecimento_uf  vacina_grupoatendimento_codigo  \\\n",
       "0                 AC                             202   \n",
       "1                 AC                             205   \n",
       "2                 AC                             202   \n",
       "3                 AC                             923   \n",
       "4                 AC                             202   \n",
       "\n",
       "  vacina_grupoatendimento_nome  vacina_categoria_codigo  \\\n",
       "0      Pessoas de 65 a 69 anos                      2.0   \n",
       "1   Pessoas de 80 anos ou mais                      2.0   \n",
       "2      Pessoas de 65 a 69 anos                      2.0   \n",
       "3        Técnico de Enfermagem                      9.0   \n",
       "4      Pessoas de 65 a 69 anos                      2.0   \n",
       "\n",
       "    vacina_categoria_nome   vacina_lote vacina_fabricante_nome  \\\n",
       "0            Faixa Etária       210052A      FUNDACAO BUTANTAN   \n",
       "1            Faixa Etária        210110      FUNDACAO BUTANTAN   \n",
       "2            Faixa Etária        210135      FUNDACAO BUTANTAN   \n",
       "3  Trabalhadores de Saúde     202010040      FUNDACAO BUTANTAN   \n",
       "4            Faixa Etária  212VCD001ZVB  FUNDACAO OSWALDO CRUZ   \n",
       "\n",
       "  vacina_fabricante_referencia vacina_dataaplicacao vacina_descricao_dose  \\\n",
       "0  Organization/61189445000156           2021-03-23               1ª Dose   \n",
       "1  Organization/61189445000156           2021-04-29               2ª Dose   \n",
       "2  Organization/61189445000156           2021-04-16               1ª Dose   \n",
       "3  Organization/61189445000156           2021-02-19               2ª Dose   \n",
       "4  Organization/33781055000135           2021-03-29               1ª Dose   \n",
       "\n",
       "   vacina_codigo                          vacina_nome sistema_origem  \\\n",
       "0             86  Covid-19-Coronavac-Sinovac/Butantan       Novo PNI   \n",
       "1             86  Covid-19-Coronavac-Sinovac/Butantan       Novo PNI   \n",
       "2             86  Covid-19-Coronavac-Sinovac/Butantan       Novo PNI   \n",
       "3             86  Covid-19-Coronavac-Sinovac/Butantan       Novo PNI   \n",
       "4             85         Vacina Covid-19 - Covishield       Novo PNI   \n",
       "\n",
       "       data_importacao_rnds  id_sistema_origem  \n",
       "0  2021-03-25T03:27:19.000Z                NaN  \n",
       "1  2021-04-30T16:03:14.000Z                NaN  \n",
       "2  2021-04-16T15:54:39.000Z                NaN  \n",
       "3  2021-03-10T14:40:54.000Z                NaN  \n",
       "4  2021-04-03T19:44:28.000Z                NaN  "
      ]
     },
     "execution_count": 191,
     "metadata": {},
     "output_type": "execute_result"
    }
   ],
   "source": [
    "df.head()"
   ]
  },
  {
   "cell_type": "code",
   "execution_count": 192,
   "metadata": {},
   "outputs": [
    {
     "name": "stdout",
     "output_type": "stream",
     "text": [
      "Número de vacinas registradas na base: 169071\n"
     ]
    }
   ],
   "source": [
    "# 1)\n",
    "num_vacinas_registradas = df.shape[0]\n",
    "print(\"Número de vacinas registradas na base:\", num_vacinas_registradas)"
   ]
  },
  {
   "cell_type": "code",
   "execution_count": 193,
   "metadata": {},
   "outputs": [
    {
     "name": "stdout",
     "output_type": "stream",
     "text": [
      "Número de pacientes vacinados: 120517\n"
     ]
    }
   ],
   "source": [
    "# 2) \n",
    "num_pacientes_vacinados = df['paciente_id'].nunique()\n",
    "print(\"Número de pacientes vacinados:\", num_pacientes_vacinados)"
   ]
  },
  {
   "cell_type": "code",
   "execution_count": 194,
   "metadata": {},
   "outputs": [
    {
     "name": "stdout",
     "output_type": "stream",
     "text": [
      "Número de pacientes únicos que tomaram a primeira dose: 119713\n"
     ]
    }
   ],
   "source": [
    "# 3) \n",
    "primeira_dose = df['vacina_descricao_dose'].unique()[0]\n",
    "num_pacientes_primeira_dose = df['paciente_id'].loc[df['vacina_descricao_dose'] == primeira_dose].nunique()\n",
    "print(\"Número de pacientes únicos que tomaram a primeira dose:\", num_pacientes_primeira_dose)"
   ]
  },
  {
   "cell_type": "code",
   "execution_count": 197,
   "metadata": {},
   "outputs": [
    {
     "name": "stdout",
     "output_type": "stream",
     "text": [
      "Número de pacientes com menos de 18 anos que foram vacinados: 47\n"
     ]
    }
   ],
   "source": [
    "# 4) \n",
    "df_menores_18 = df[df['paciente_idade'] < 18]\n",
    "num_pacientes_menores_18 = df_menores_18['paciente_id'].nunique()\n",
    "print(\"Número de pacientes com menos de 18 anos que foram vacinados:\", num_pacientes_menores_18)"
   ]
  },
  {
   "cell_type": "code",
   "execution_count": 196,
   "metadata": {},
   "outputs": [
    {
     "data": {
      "text/plain": [
       "47"
      ]
     },
     "execution_count": 196,
     "metadata": {},
     "output_type": "execute_result"
    }
   ],
   "source": [
    "# 4) solução alternativa simplificada\n",
    "df_menor = df[df[\"paciente_idade\"]<18]\n",
    "df_menor['paciente_id'].nunique()"
   ]
  },
  {
   "cell_type": "code",
   "execution_count": 198,
   "metadata": {},
   "outputs": [
    {
     "name": "stdout",
     "output_type": "stream",
     "text": [
      "Número de estabelecimentos que aplicaram vacina no Acre: 42\n"
     ]
    }
   ],
   "source": [
    "# 5)\n",
    "num_estabelecimentos = df['estabelecimento_razaosocial'].nunique()\n",
    "print(\"Número de estabelecimentos que aplicaram vacina no Acre:\", num_estabelecimentos)"
   ]
  },
  {
   "cell_type": "markdown",
   "metadata": {},
   "source": [
    "## 4) Vacinação II\n",
    "Gere um *DataFrame* que contenha somente os estabelecimentos que aplicaram vcinas a menores de 18 anos. Nesse *DataFrame* devem conter somente os dados dos estabelecimentos, mais uma coluna sendo a quantidade de vacinas que o estabelecimento aplicou a menores de 18 anos.  \n",
    "  \n",
    "1. crie uma cópia do *DataFrame* original, contendo somente os registros de vacinas realizadas a menores de 18 anos.  \n",
    "2. crie uma lista das colunas desse *DataFrame* com o atributo de *DataFrame* **.columns()**  \n",
    "3. Nesse *DataFrame* faça uma contagem do campo ```vacina_categoria_nome```.\n",
    "3. a partir da lista de colunas, escolha somente aquelas que são referentes ao estabelecimento, faça uma lista com esses valores.  \n",
    "4. usando o método *.loc*, selecione somente essas variáveis  \n",
    "5. Aplique o método **.drop_duplicates** e crie uma lista com uma linha para cada estabelecimento, com os dados do estabelecimento  "
   ]
  },
  {
   "cell_type": "code",
   "execution_count": 199,
   "metadata": {},
   "outputs": [
    {
     "name": "stdout",
     "output_type": "stream",
     "text": [
      "                         estabelecimento_razaosocial  \\\n",
      "0  DISTRITO SANITARIO ESPECIAL DE SAUDE INDIGENA ...   \n",
      "1    DISTRITO SANITARIO ESPECIAL INDIGENA ALTO JURUA   \n",
      "2  DISTRITO SANITARIO ESPECIAL INDIGENA ALTO RIO ...   \n",
      "3                                MINISTERIO DA SAUDE   \n",
      "4               PREFEITURA MUNICIPAL DE ASSIS BRASIL   \n",
      "\n",
      "   quantidade_vacinas_menores_18  \n",
      "0                              2  \n",
      "1                              4  \n",
      "2                             21  \n",
      "3                              1  \n",
      "4                              3  \n"
     ]
    }
   ],
   "source": [
    "# 1) \n",
    "df_estabelecimentos_menores_18 = df_menores_18.groupby('estabelecimento_razaosocial').size().reset_index(name='quantidade_vacinas_menores_18')\n",
    "print(df_estabelecimentos_menores_18.head())"
   ]
  },
  {
   "cell_type": "code",
   "execution_count": 200,
   "metadata": {},
   "outputs": [
    {
     "name": "stdout",
     "output_type": "stream",
     "text": [
      "['document_id', 'paciente_id', 'paciente_idade', 'paciente_datanascimento', 'paciente_enumsexobiologico', 'paciente_racacor_codigo', 'paciente_racacor_valor', 'paciente_endereco_coibgemunicipio', 'paciente_endereco_copais', 'paciente_endereco_nmmunicipio', 'paciente_endereco_nmpais', 'paciente_endereco_uf', 'paciente_endereco_cep', 'paciente_nacionalidade_enumnacionalidade', 'estabelecimento_valor', 'estabelecimento_razaosocial', 'estalecimento_nofantasia', 'estabelecimento_municipio_codigo', 'estabelecimento_municipio_nome', 'estabelecimento_uf', 'vacina_grupoatendimento_codigo', 'vacina_grupoatendimento_nome', 'vacina_categoria_codigo', 'vacina_categoria_nome', 'vacina_lote', 'vacina_fabricante_nome', 'vacina_fabricante_referencia', 'vacina_dataaplicacao', 'vacina_descricao_dose', 'vacina_codigo', 'vacina_nome', 'sistema_origem', 'data_importacao_rnds', 'id_sistema_origem']\n"
     ]
    }
   ],
   "source": [
    "# 2) \n",
    "colunas_df_menores_18 = df_menores_18.columns.tolist()\n",
    "print(colunas_df_menores_18)"
   ]
  },
  {
   "cell_type": "code",
   "execution_count": 209,
   "metadata": {},
   "outputs": [
    {
     "name": "stdout",
     "output_type": "stream",
     "text": [
      "vacina_categoria_nome\n",
      "Povos Indígenas                     33\n",
      "Trabalhadores de Saúde               9\n",
      "Povos e Comunidades Tradicionais     9\n",
      "Comorbidades                         2\n",
      "Faixa Etária                         1\n",
      "Name: count, dtype: int64\n",
      "['estabelecimento_valor', 'estabelecimento_razaosocial', 'estalecimento_nofantasia']\n"
     ]
    }
   ],
   "source": [
    "# 3) \n",
    "contagem_categoria_nome = df_menores_18['vacina_categoria_nome'].value_counts()\n",
    "colunas_estabelecimento = ['estabelecimento_valor', 'estabelecimento_razaosocial', 'estalecimento_nofantasia']\n",
    "print(contagem_categoria_nome)\n",
    "print(colunas_estabelecimento)"
   ]
  },
  {
   "cell_type": "code",
   "execution_count": 211,
   "metadata": {},
   "outputs": [
    {
     "name": "stdout",
     "output_type": "stream",
     "text": [
      "       estabelecimento_valor  \\\n",
      "1567                 2001314   \n",
      "6250                 6917291   \n",
      "9569                 6159087   \n",
      "11338                2000040   \n",
      "15144                7625855   \n",
      "\n",
      "                             estabelecimento_razaosocial  \\\n",
      "1567              PREFEITURA MUNICIPAL DE EPITACIOLANDIA   \n",
      "6250                  PREFEITURA MUNICIPAL DE RIO BRANCO   \n",
      "9569             PREFEITURA MUNICIPAL DE CRUZEIRO DO SUL   \n",
      "11338                      PREFEITURA MUNICIPAL DE FEIJO   \n",
      "15144  DISTRITO SANITARIO ESPECIAL INDIGENA ALTO RIO ...   \n",
      "\n",
      "                                estalecimento_nofantasia  \n",
      "1567                             ESF JOAO ALVES DA SILVA  \n",
      "6250   DEPARTAMENTO DE VIGILANCIA EPIDEMIOLOGICA E AM...  \n",
      "9569    SECRETARIA MUNICIPAL DE SAUDE DE CRUZEIRO DO SUL  \n",
      "11338                  CENTRO DE SAUDE DIAMANTINO MACEDO  \n",
      "15144                  POLO BASE DE MARECHAL THAUMATURGO  \n"
     ]
    }
   ],
   "source": [
    "# 4)\n",
    "df_estabelecimentos_menores_18 = df_menores_18.loc[:, colunas_estabelecimento]\n",
    "print(df_estabelecimentos_menores_18.head())"
   ]
  },
  {
   "cell_type": "code",
   "execution_count": 212,
   "metadata": {},
   "outputs": [
    {
     "name": "stdout",
     "output_type": "stream",
     "text": [
      "        estabelecimento_valor  \\\n",
      "1567                  2001314   \n",
      "6250                  6917291   \n",
      "9569                  6159087   \n",
      "11338                 2000040   \n",
      "15144                 7625855   \n",
      "17153                 6748759   \n",
      "18361                 6308740   \n",
      "18608                 2001748   \n",
      "20204                 6917682   \n",
      "21119                 6428940   \n",
      "29127                 6612385   \n",
      "57405                 9648968   \n",
      "61131                 6430201   \n",
      "68290                 6955525   \n",
      "69882                 5336171   \n",
      "70881                 6697151   \n",
      "101402                3323307   \n",
      "140895                7123043   \n",
      "\n",
      "                              estabelecimento_razaosocial  \\\n",
      "1567               PREFEITURA MUNICIPAL DE EPITACIOLANDIA   \n",
      "6250                   PREFEITURA MUNICIPAL DE RIO BRANCO   \n",
      "9569              PREFEITURA MUNICIPAL DE CRUZEIRO DO SUL   \n",
      "11338                       PREFEITURA MUNICIPAL DE FEIJO   \n",
      "15144   DISTRITO SANITARIO ESPECIAL INDIGENA ALTO RIO ...   \n",
      "17153   DISTRITO SANITARIO ESPECIAL INDIGENA ALTO RIO ...   \n",
      "18361   DISTRITO SANITARIO ESPECIAL INDIGENA ALTO RIO ...   \n",
      "18608                PREFEITURA MUNICIPAL DE PORTO WALTER   \n",
      "20204   DISTRITO SANITARIO ESPECIAL INDIGENA ALTO RIO ...   \n",
      "21119                PREFEITURA MUNICIPAL DE ASSIS BRASIL   \n",
      "29127                    PREFEITURA MUNICIPAL DE TARAUACA   \n",
      "57405   DISTRITO SANITARIO ESPECIAL DE SAUDE INDIGENA ...   \n",
      "61131     DISTRITO SANITARIO ESPECIAL INDIGENA ALTO JURUA   \n",
      "68290   DISTRITO SANITARIO ESPECIAL INDIGENA ALTO RIO ...   \n",
      "69882               SECRETARIA DE ESTADO DE SAUDE DO ACRE   \n",
      "70881                                 MINISTERIO DA SAUDE   \n",
      "101402                 PREFEITURA MUNICIPAL DE PORTO ACRE   \n",
      "140895                     PREFEITURA MUNICIPAL DE JORDAO   \n",
      "\n",
      "                                 estalecimento_nofantasia  \n",
      "1567                              ESF JOAO ALVES DA SILVA  \n",
      "6250    DEPARTAMENTO DE VIGILANCIA EPIDEMIOLOGICA E AM...  \n",
      "9569     SECRETARIA MUNICIPAL DE SAUDE DE CRUZEIRO DO SUL  \n",
      "11338                   CENTRO DE SAUDE DIAMANTINO MACEDO  \n",
      "15144                   POLO BASE DE MARECHAL THAUMATURGO  \n",
      "17153                                  POLO BASE DE FEIJO  \n",
      "18361                           POLO BASE DE PORTO WALTER  \n",
      "18608                       UBS VICENTE VARELA DE ALMEIDA  \n",
      "20204                        POLO BASE DE CRUZEIRO DO SUL  \n",
      "21119                           POLO BASE DE ASSIS BRASIL  \n",
      "29127   UNIDADE ASSISTENCIAL A SAUDE INDIGENA DE TARAU...  \n",
      "57405                      POLO INDIGENA DE MANOEL URBANO  \n",
      "61131                                  POLO BASE INDIGENA  \n",
      "68290                            POLO BASE DE MANCIO LIMA  \n",
      "69882                          HOSPITAL REGIONAL DO JURUA  \n",
      "70881     DISTRITO SANITARIO ESPECIAL INDIGENA ALTO PURUS  \n",
      "101402    UNIDADE DE SAUDE DA FAMILIA ALVARO ARAUJO NOBRE  \n",
      "140895                        SAUDE DA FAMILIA RIBEIRINHA  \n"
     ]
    }
   ],
   "source": [
    "# 5)\n",
    "estabelecimentos_unicos_menores_18 = df_estabelecimentos_menores_18.drop_duplicates()\n",
    "print(estabelecimentos_unicos_menores_18)"
   ]
  }
 ],
 "metadata": {
  "kernelspec": {
   "display_name": "Python 3",
   "language": "python",
   "name": "python3"
  },
  "language_info": {
   "codemirror_mode": {
    "name": "ipython",
    "version": 3
   },
   "file_extension": ".py",
   "mimetype": "text/x-python",
   "name": "python",
   "nbconvert_exporter": "python",
   "pygments_lexer": "ipython3",
   "version": "3.8.5"
  },
  "toc": {
   "base_numbering": 1,
   "nav_menu": {},
   "number_sections": false,
   "sideBar": true,
   "skip_h1_title": true,
   "title_cell": "Índice",
   "title_sidebar": "Conteúdo",
   "toc_cell": false,
   "toc_position": {},
   "toc_section_display": true,
   "toc_window_display": false
  },
  "varInspector": {
   "cols": {
    "lenName": 16,
    "lenType": 16,
    "lenVar": 40
   },
   "kernels_config": {
    "python": {
     "delete_cmd_postfix": "",
     "delete_cmd_prefix": "del ",
     "library": "var_list.py",
     "varRefreshCmd": "print(var_dic_list())"
    },
    "r": {
     "delete_cmd_postfix": ") ",
     "delete_cmd_prefix": "rm(",
     "library": "var_list.r",
     "varRefreshCmd": "cat(var_dic_list()) "
    }
   },
   "types_to_exclude": [
    "module",
    "function",
    "builtin_function_or_method",
    "instance",
    "_Feature"
   ],
   "window_display": false
  }
 },
 "nbformat": 4,
 "nbformat_minor": 4
}
