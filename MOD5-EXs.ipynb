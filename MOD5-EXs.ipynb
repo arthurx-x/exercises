{
 "cells": [
  {
   "cell_type": "markdown",
   "metadata": {},
   "source": [
    "# Módulo 5 Tarefa 1\n",
    "## Base de nascidos vivos do DataSUS\n",
    "O DataSUS disponibiliza diversos arquivos de dados com relação a seus segurados, conforme a [lei da transparência de informações públicas](https://www.sisgov.com/transparencia-acesso-informacao/#:~:text=A%20Lei%20da%20Transpar%C3%AAncia%20(LC,em%20um%20site%20na%20internet.). \n",
    "\n",
    "Essas informações podem ser obtidas pela internet [aqui](http://www2.datasus.gov.br/DATASUS/index.php?area=0901&item=1). Como o processo de obtenção desses arquivos foge um pouco do nosso escopo, deixamos o arquivo ```SINASC_RO_2019.csv``` já como vai ser encontrado no DataSUS. O dicionário de dados está no arquivo ```estrutura_sinasc_para_CD.pdf``` (o nome do arquivo tal qual no portal do DataSUS).\n",
    "\n",
    "### Nosso objetivo\n",
    "Queremos deixar uma base organizada para podermos estudar a relação entre partos com risco para o bebê e algumas condições como tempo de parto, consultas de pré-natal etc.\n",
    "\n",
    "#### Preparação da base\n",
    "1. Carregue a base 'SINASC_RO_2019.csv'. Conte o número de registros e o número de registros não duplicados da base. Dica: você aprendeu um método que remove duplicados, encadeie este método com um outro método que conta o número de linhas. **Há linhas duplicadas?**  \n",
    "\n",
    "2. Conte o número de valores *missing* por variável.  \n",
    "\n",
    "3. Ok, no item anterior você deve ter achado pouco prático ler a informação de tantas variáveis, muitas delas nem devem ser interesantes. Então crie uma seleção dessa base somente com as colunas que interessam. São elas:\n",
    "``` \n",
    "['LOCNASC', 'IDADEMAE', 'ESTCIVMAE', 'ESCMAE', 'QTDFILVIVO', \n",
    "    'GESTACAO', 'GRAVIDEZ', 'CONSULTAS', 'APGAR5'] \n",
    "```\n",
    "Refaça a contagem de valores *missings*.  \n",
    "\n",
    "4. Apgar é uma *nota* que o pediatra dá ao bebê quando nasce de acordo com algumas características associadas principalmente à respiração. Apgar 1 e Apgar 5 são as notas 1 e 5 minutos do nascimento. Apgar5 será a nossa variável de interesse principal. Então remova todos os registros com Apgar5 não preenchido. Para esta seleção, conte novamente o número de linhas e o número de *missings*.  \n",
    "\n",
    "5. observe que as variáveis ```['ESTCIVMAE', 'CONSULTAS']``` possuem o código ```9```, que significa *ignorado*. Vamos assumir que o não preenchido é o mesmo que o código ```9```.<br>\n",
    "6. Substitua os valores faltantes da quantitativa (```QTDFILVIVO```) por zero.  \n",
    "7. Das restantes, decida que valore te parece mais adequado (um 'não preenchido' ou um valor 'mais provável' como no item anterior) e preencha. Justifique. Lembre-se de que tratamento de dados é trabalho do cientista, e que estamos tomando decisões a todo o momento - não há necessariamente certo e errado aqui.  \n",
    "8. O Apgar possui uma classificação indicando se o bebê passou por asfixia:\n",
    "- Entre 8 e 10 está em uma faixa 'normal'. \n",
    "- Entre 6 e 7, significa que o recém-nascido passou por 'asfixia leve'. \n",
    "- Entre 4 e 5 significa 'asfixia moderada'.\n",
    "- Entre 0 e 3 significa 'asfixia severa'.  \n",
    "\n",
    "Crie uma categorização dessa variável com essa codificação e calcule as frequências dessa categorização.  \n",
    "<br>\n",
    "9. Renomeie as variáveis para que fiquem no *snake case*, ou seja, em letras minúsculas, com um *underscore* entre as palávras. Dica: repare que se você não quiser criar um *dataframe* novo, você vai precisar usar a opção ```inplace = True```."
   ]
  },
  {
   "cell_type": "code",
   "execution_count": 102,
   "metadata": {},
   "outputs": [],
   "source": [
    "import pandas as pd\n",
    "import requests"
   ]
  },
  {
   "cell_type": "code",
   "execution_count": 103,
   "metadata": {},
   "outputs": [
    {
     "name": "stdout",
     "output_type": "stream",
     "text": [
      "Número total de registros: 27028\n",
      "Há linhas duplicadas: False\n"
     ]
    }
   ],
   "source": [
    "# 1) seu código aqui\n",
    "df = pd.read_csv('SINASC_RO_2019.csv')\n",
    "print(f'Número total de registros: {len(df)}')\n",
    "print(f'Há linhas duplicadas: {len(df) != len(df.drop_duplicates())}')"
   ]
  },
  {
   "cell_type": "code",
   "execution_count": 104,
   "metadata": {},
   "outputs": [
    {
     "name": "stdout",
     "output_type": "stream",
     "text": [
      "Valores missing por variável:\n",
      "ORIGEM          0\n",
      "CODESTAB      115\n",
      "CODMUNNASC      0\n",
      "LOCNASC         0\n",
      "IDADEMAE        0\n",
      "             ... \n",
      "munResUf        0\n",
      "munResLat       1\n",
      "munResLon       1\n",
      "munResAlt       1\n",
      "munResArea      1\n",
      "Length: 69, dtype: int64\n"
     ]
    }
   ],
   "source": [
    "# 2) seu código aqui\n",
    "print(f'Valores missing por variável:\\n{df.isnull().sum()}')"
   ]
  },
  {
   "cell_type": "code",
   "execution_count": 105,
   "metadata": {},
   "outputs": [
    {
     "name": "stdout",
     "output_type": "stream",
     "text": [
      "DataFrame com colunas de interesse:\n",
      "       LOCNASC  IDADEMAE  ESTCIVMAE           ESCMAE  QTDFILVIVO  \\\n",
      "0            1        19        5.0      8 a 11 anos         0.0   \n",
      "1            1        29        2.0      8 a 11 anos         1.0   \n",
      "2            1        37        9.0      8 a 11 anos         2.0   \n",
      "3            1        30        5.0  12 anos ou mais         0.0   \n",
      "4            1        30        2.0      8 a 11 anos         1.0   \n",
      "...        ...       ...        ...              ...         ...   \n",
      "27023        1        32        2.0  12 anos ou mais         1.0   \n",
      "27024        1        19        1.0      8 a 11 anos         0.0   \n",
      "27025        1        24        2.0      8 a 11 anos         0.0   \n",
      "27026        1        21        2.0      8 a 11 anos         1.0   \n",
      "27027        1        18        5.0      8 a 11 anos         1.0   \n",
      "\n",
      "              GESTACAO GRAVIDEZ  CONSULTAS  APGAR5  \n",
      "0      37 a 41 semanas    Única          4    10.0  \n",
      "1      37 a 41 semanas    Única          4     9.0  \n",
      "2      37 a 41 semanas    Única          4    10.0  \n",
      "3      37 a 41 semanas    Única          3    10.0  \n",
      "4      37 a 41 semanas    Única          4    10.0  \n",
      "...                ...      ...        ...     ...  \n",
      "27023  32 a 36 semanas    Única          4     9.0  \n",
      "27024  37 a 41 semanas    Única          4     9.0  \n",
      "27025  37 a 41 semanas    Única          4    10.0  \n",
      "27026  32 a 36 semanas    Única          4     9.0  \n",
      "27027  37 a 41 semanas    Única          4     8.0  \n",
      "\n",
      "[27028 rows x 9 columns]\n"
     ]
    }
   ],
   "source": [
    "# 3) seu código aqui\n",
    "df_interesse = pd.read_csv('SINASC_RO_2019.csv')[[\n",
    "      'LOCNASC', \n",
    "      'IDADEMAE', \n",
    "      'ESTCIVMAE', \n",
    "      'ESCMAE', \n",
    "      'QTDFILVIVO', \n",
    "      'GESTACAO', \n",
    "      'GRAVIDEZ', \n",
    "      'CONSULTAS', \n",
    "      'APGAR5']]\n",
    "print(f'DataFrame com colunas de interesse:\\n{df_interesse}')"
   ]
  },
  {
   "cell_type": "code",
   "execution_count": 106,
   "metadata": {},
   "outputs": [
    {
     "name": "stdout",
     "output_type": "stream",
     "text": [
      "Valores missing nas colunas de interesse:\n",
      "LOCNASC          0\n",
      "IDADEMAE         0\n",
      "ESTCIVMAE      317\n",
      "ESCMAE         312\n",
      "QTDFILVIVO    1573\n",
      "GESTACAO      1232\n",
      "GRAVIDEZ        79\n",
      "CONSULTAS        0\n",
      "APGAR5         103\n",
      "dtype: int64\n"
     ]
    }
   ],
   "source": [
    "# 3.1) seu código aqui\n",
    "print(f'Valores missing nas colunas de interesse:\\n{df_interesse.isnull().sum()}')"
   ]
  },
  {
   "cell_type": "code",
   "execution_count": 107,
   "metadata": {},
   "outputs": [
    {
     "name": "stdout",
     "output_type": "stream",
     "text": [
      "\n",
      "DataFrame após remover registros com Apgar5 não preenchido:\n",
      "       LOCNASC  IDADEMAE  ESTCIVMAE           ESCMAE  QTDFILVIVO  \\\n",
      "0            1        19        5.0      8 a 11 anos         0.0   \n",
      "1            1        29        2.0      8 a 11 anos         1.0   \n",
      "2            1        37        9.0      8 a 11 anos         2.0   \n",
      "3            1        30        5.0  12 anos ou mais         0.0   \n",
      "4            1        30        2.0      8 a 11 anos         1.0   \n",
      "...        ...       ...        ...              ...         ...   \n",
      "27023        1        32        2.0  12 anos ou mais         1.0   \n",
      "27024        1        19        1.0      8 a 11 anos         0.0   \n",
      "27025        1        24        2.0      8 a 11 anos         0.0   \n",
      "27026        1        21        2.0      8 a 11 anos         1.0   \n",
      "27027        1        18        5.0      8 a 11 anos         1.0   \n",
      "\n",
      "              GESTACAO GRAVIDEZ  CONSULTAS  APGAR5  \n",
      "0      37 a 41 semanas    Única          4    10.0  \n",
      "1      37 a 41 semanas    Única          4     9.0  \n",
      "2      37 a 41 semanas    Única          4    10.0  \n",
      "3      37 a 41 semanas    Única          3    10.0  \n",
      "4      37 a 41 semanas    Única          4    10.0  \n",
      "...                ...      ...        ...     ...  \n",
      "27023  32 a 36 semanas    Única          4     9.0  \n",
      "27024  37 a 41 semanas    Única          4     9.0  \n",
      "27025  37 a 41 semanas    Única          4    10.0  \n",
      "27026  32 a 36 semanas    Única          4     9.0  \n",
      "27027  37 a 41 semanas    Única          4     8.0  \n",
      "\n",
      "[26925 rows x 9 columns]\n",
      "Número de registros após remoção: 26925\n",
      "Valores missing nas colunas de interesse após remoção:\n",
      "LOCNASC          0\n",
      "IDADEMAE         0\n",
      "ESTCIVMAE      315\n",
      "ESCMAE         310\n",
      "QTDFILVIVO    1566\n",
      "GESTACAO      1216\n",
      "GRAVIDEZ        76\n",
      "CONSULTAS        0\n",
      "APGAR5           0\n",
      "dtype: int64\n"
     ]
    }
   ],
   "source": [
    "# 4) seu código aqui\n",
    "df_sem_apgar5_missing = df_interesse.dropna(subset=['APGAR5'])\n",
    "print(f'\\nDataFrame após remover registros com Apgar5 não preenchido:\\n{df_sem_apgar5_missing}')\n",
    "num_registros_sem_apgar5_missing = len(df_sem_apgar5_missing)\n",
    "missings_apgar5 = df_sem_apgar5_missing.isnull().sum()\n",
    "print(f'Número de registros após remoção: {num_registros_sem_apgar5_missing}')\n",
    "print(f'Valores missing nas colunas de interesse após remoção:\\n{missings_apgar5}')"
   ]
  },
  {
   "cell_type": "code",
   "execution_count": 108,
   "metadata": {},
   "outputs": [
    {
     "name": "stdout",
     "output_type": "stream",
     "text": [
      "DataFrame com colunas de interesse:\n",
      "       LOCNASC  IDADEMAE  ESTCIVMAE           ESCMAE  QTDFILVIVO  \\\n",
      "0            1        19        5.0      8 a 11 anos         0.0   \n",
      "1            1        29        2.0      8 a 11 anos         1.0   \n",
      "2            1        37        9.0      8 a 11 anos         2.0   \n",
      "3            1        30        5.0  12 anos ou mais         0.0   \n",
      "4            1        30        2.0      8 a 11 anos         1.0   \n",
      "...        ...       ...        ...              ...         ...   \n",
      "27023        1        32        2.0  12 anos ou mais         1.0   \n",
      "27024        1        19        1.0      8 a 11 anos         0.0   \n",
      "27025        1        24        2.0      8 a 11 anos         0.0   \n",
      "27026        1        21        2.0      8 a 11 anos         1.0   \n",
      "27027        1        18        5.0      8 a 11 anos         1.0   \n",
      "\n",
      "              GESTACAO GRAVIDEZ  CONSULTAS  APGAR5  \n",
      "0      37 a 41 semanas    Única          4    10.0  \n",
      "1      37 a 41 semanas    Única          4     9.0  \n",
      "2      37 a 41 semanas    Única          4    10.0  \n",
      "3      37 a 41 semanas    Única          3    10.0  \n",
      "4      37 a 41 semanas    Única          4    10.0  \n",
      "...                ...      ...        ...     ...  \n",
      "27023  32 a 36 semanas    Única          4     9.0  \n",
      "27024  37 a 41 semanas    Única          4     9.0  \n",
      "27025  37 a 41 semanas    Única          4    10.0  \n",
      "27026  32 a 36 semanas    Única          4     9.0  \n",
      "27027  37 a 41 semanas    Única          4     8.0  \n",
      "\n",
      "[27028 rows x 9 columns]\n",
      "Valores missing nas colunas de interesse:\n",
      "LOCNASC          0\n",
      "IDADEMAE         0\n",
      "ESTCIVMAE      317\n",
      "ESCMAE         312\n",
      "QTDFILVIVO    1573\n",
      "GESTACAO      1232\n",
      "GRAVIDEZ        79\n",
      "CONSULTAS        0\n",
      "APGAR5         103\n",
      "dtype: int64\n",
      "\n",
      "DataFrame após substituir código 9 por NaN em ESTCIVMAE e CONSULTAS:\n",
      "       LOCNASC  IDADEMAE ESTCIVMAE           ESCMAE  QTDFILVIVO  \\\n",
      "0            1        19       5.0      8 a 11 anos         0.0   \n",
      "1            1        29       2.0      8 a 11 anos         1.0   \n",
      "2            1        37      <NA>      8 a 11 anos         2.0   \n",
      "3            1        30       5.0  12 anos ou mais         0.0   \n",
      "4            1        30       2.0      8 a 11 anos         1.0   \n",
      "...        ...       ...       ...              ...         ...   \n",
      "27023        1        32       2.0  12 anos ou mais         1.0   \n",
      "27024        1        19       1.0      8 a 11 anos         0.0   \n",
      "27025        1        24       2.0      8 a 11 anos         0.0   \n",
      "27026        1        21       2.0      8 a 11 anos         1.0   \n",
      "27027        1        18       5.0      8 a 11 anos         1.0   \n",
      "\n",
      "              GESTACAO GRAVIDEZ CONSULTAS  APGAR5  \n",
      "0      37 a 41 semanas    Única         4    10.0  \n",
      "1      37 a 41 semanas    Única         4     9.0  \n",
      "2      37 a 41 semanas    Única         4    10.0  \n",
      "3      37 a 41 semanas    Única         3    10.0  \n",
      "4      37 a 41 semanas    Única         4    10.0  \n",
      "...                ...      ...       ...     ...  \n",
      "27023  32 a 36 semanas    Única         4     9.0  \n",
      "27024  37 a 41 semanas    Única         4     9.0  \n",
      "27025  37 a 41 semanas    Única         4    10.0  \n",
      "27026  32 a 36 semanas    Única         4     9.0  \n",
      "27027  37 a 41 semanas    Única         4     8.0  \n",
      "\n",
      "[27028 rows x 9 columns]\n"
     ]
    }
   ],
   "source": [
    "# 5) seu código aqui\n",
    "df_interesse = pd.read_csv('SINASC_RO_2019.csv')[['LOCNASC', 'IDADEMAE', 'ESTCIVMAE', 'ESCMAE', 'QTDFILVIVO', 'GESTACAO', 'GRAVIDEZ', 'CONSULTAS', 'APGAR5']]\n",
    "print(f'DataFrame com colunas de interesse:\\n{df_interesse}\\nValores missing nas colunas de interesse:\\n{df_interesse.isnull().sum()}')\n",
    "df_interesse.replace({'ESTCIVMAE': 9, 'CONSULTAS': 9}, pd.NA, inplace=True)\n",
    "print(f'\\nDataFrame após substituir código 9 por NaN em ESTCIVMAE e CONSULTAS:\\n{df_interesse}')"
   ]
  },
  {
   "cell_type": "code",
   "execution_count": 109,
   "metadata": {},
   "outputs": [
    {
     "name": "stdout",
     "output_type": "stream",
     "text": [
      "\n",
      "DataFrame após substituir valores faltantes em QTDFILVIVO por zero:\n",
      "       LOCNASC  IDADEMAE  ESTCIVMAE           ESCMAE  QTDFILVIVO  \\\n",
      "0            1        19        5.0      8 a 11 anos         0.0   \n",
      "1            1        29        2.0      8 a 11 anos         1.0   \n",
      "2            1        37        9.0      8 a 11 anos         2.0   \n",
      "3            1        30        5.0  12 anos ou mais         0.0   \n",
      "4            1        30        2.0      8 a 11 anos         1.0   \n",
      "...        ...       ...        ...              ...         ...   \n",
      "27023        1        32        2.0  12 anos ou mais         1.0   \n",
      "27024        1        19        1.0      8 a 11 anos         0.0   \n",
      "27025        1        24        2.0      8 a 11 anos         0.0   \n",
      "27026        1        21        2.0      8 a 11 anos         1.0   \n",
      "27027        1        18        5.0      8 a 11 anos         1.0   \n",
      "\n",
      "              GESTACAO GRAVIDEZ  CONSULTAS  APGAR5  \n",
      "0      37 a 41 semanas    Única          4    10.0  \n",
      "1      37 a 41 semanas    Única          4     9.0  \n",
      "2      37 a 41 semanas    Única          4    10.0  \n",
      "3      37 a 41 semanas    Única          3    10.0  \n",
      "4      37 a 41 semanas    Única          4    10.0  \n",
      "...                ...      ...        ...     ...  \n",
      "27023  32 a 36 semanas    Única          4     9.0  \n",
      "27024  37 a 41 semanas    Única          4     9.0  \n",
      "27025  37 a 41 semanas    Única          4    10.0  \n",
      "27026  32 a 36 semanas    Única          4     9.0  \n",
      "27027  37 a 41 semanas    Única          4     8.0  \n",
      "\n",
      "[26925 rows x 9 columns]\n"
     ]
    }
   ],
   "source": [
    "# 6) seu código aqui\n",
    "df_sem_apgar5_missing['QTDFILVIVO'].fillna(0, inplace=True)\n",
    "print(f'\\nDataFrame após substituir valores faltantes em QTDFILVIVO por zero:\\n{df_sem_apgar5_missing}')"
   ]
  },
  {
   "cell_type": "code",
   "execution_count": 110,
   "metadata": {},
   "outputs": [
    {
     "name": "stdout",
     "output_type": "stream",
     "text": [
      "\n",
      "DataFrame após substituir valores faltantes em IDADEMAE pela mediana:\n",
      "   LOCNASC  IDADEMAE  ESTCIVMAE           ESCMAE  QTDFILVIVO         GESTACAO  \\\n",
      "0        1        19        5.0      8 a 11 anos         0.0  37 a 41 semanas   \n",
      "1        1        29        2.0      8 a 11 anos         1.0  37 a 41 semanas   \n",
      "2        1        37        9.0      8 a 11 anos         2.0  37 a 41 semanas   \n",
      "3        1        30        5.0  12 anos ou mais         0.0  37 a 41 semanas   \n",
      "4        1        30        2.0      8 a 11 anos         1.0  37 a 41 semanas   \n",
      "\n",
      "  GRAVIDEZ  CONSULTAS  APGAR5  \n",
      "0    Única          4    10.0  \n",
      "1    Única          4     9.0  \n",
      "2    Única          4    10.0  \n",
      "3    Única          3    10.0  \n",
      "4    Única          4    10.0  \n",
      "\n",
      "DataFrame após substituir valores faltantes em ESCMAE pela categoria mais comum:\n",
      "   LOCNASC  IDADEMAE  ESTCIVMAE           ESCMAE  QTDFILVIVO         GESTACAO  \\\n",
      "0        1        19        5.0      8 a 11 anos         0.0  37 a 41 semanas   \n",
      "1        1        29        2.0      8 a 11 anos         1.0  37 a 41 semanas   \n",
      "2        1        37        9.0      8 a 11 anos         2.0  37 a 41 semanas   \n",
      "3        1        30        5.0  12 anos ou mais         0.0  37 a 41 semanas   \n",
      "4        1        30        2.0      8 a 11 anos         1.0  37 a 41 semanas   \n",
      "\n",
      "  GRAVIDEZ  CONSULTAS  APGAR5  \n",
      "0    Única          4    10.0  \n",
      "1    Única          4     9.0  \n",
      "2    Única          4    10.0  \n",
      "3    Única          3    10.0  \n",
      "4    Única          4    10.0  \n",
      "\n",
      "DataFrame após substituir valores faltantes em variáveis categóricas:\n",
      "   LOCNASC  IDADEMAE  ESTCIVMAE           ESCMAE  QTDFILVIVO         GESTACAO  \\\n",
      "0        1        19        5.0      8 a 11 anos         0.0  37 a 41 semanas   \n",
      "1        1        29        2.0      8 a 11 anos         1.0  37 a 41 semanas   \n",
      "2        1        37        9.0      8 a 11 anos         2.0  37 a 41 semanas   \n",
      "3        1        30        5.0  12 anos ou mais         0.0  37 a 41 semanas   \n",
      "4        1        30        2.0      8 a 11 anos         1.0  37 a 41 semanas   \n",
      "\n",
      "  GRAVIDEZ  CONSULTAS  APGAR5  \n",
      "0    Única          4    10.0  \n",
      "1    Única          4     9.0  \n",
      "2    Única          4    10.0  \n",
      "3    Única          3    10.0  \n",
      "4    Única          4    10.0  \n",
      "\n",
      "DataFrame após substituir valores faltantes em CONSULTAS pela mediana:\n",
      "   LOCNASC  IDADEMAE  ESTCIVMAE           ESCMAE  QTDFILVIVO         GESTACAO  \\\n",
      "0        1        19        5.0      8 a 11 anos         0.0  37 a 41 semanas   \n",
      "1        1        29        2.0      8 a 11 anos         1.0  37 a 41 semanas   \n",
      "2        1        37        9.0      8 a 11 anos         2.0  37 a 41 semanas   \n",
      "3        1        30        5.0  12 anos ou mais         0.0  37 a 41 semanas   \n",
      "4        1        30        2.0      8 a 11 anos         1.0  37 a 41 semanas   \n",
      "\n",
      "  GRAVIDEZ  CONSULTAS  APGAR5  \n",
      "0    Única          4    10.0  \n",
      "1    Única          4     9.0  \n",
      "2    Única          4    10.0  \n",
      "3    Única          3    10.0  \n",
      "4    Única          4    10.0  \n"
     ]
    }
   ],
   "source": [
    "# 7) seu código aqui\n",
    "df_sem_apgar5_missing['IDADEMAE'].fillna(df_sem_apgar5_missing['IDADEMAE'].median(), inplace=True)\n",
    "print(f'\\nDataFrame após substituir valores faltantes em IDADEMAE pela mediana:\\n{df_sem_apgar5_missing.head()}')\n",
    "df_sem_apgar5_missing['ESCMAE'].fillna(df_sem_apgar5_missing['ESCMAE'].mode()[0], inplace=True)\n",
    "print(f'\\nDataFrame após substituir valores faltantes em ESCMAE pela categoria mais comum:\\n{df_sem_apgar5_missing.head()}')\n",
    "df_sem_apgar5_missing[['GESTACAO', 'GRAVIDEZ', 'LOCNASC']] = df_sem_apgar5_missing[['GESTACAO', 'GRAVIDEZ', 'LOCNASC']].fillna(df_sem_apgar5_missing.mode().iloc[0])\n",
    "print(f'\\nDataFrame após substituir valores faltantes em variáveis categóricas:\\n{df_sem_apgar5_missing.head()}')\n",
    "df_sem_apgar5_missing['CONSULTAS'].fillna(df_sem_apgar5_missing['CONSULTAS'].median(), inplace=True)\n",
    "print(f'\\nDataFrame após substituir valores faltantes em CONSULTAS pela mediana:\\n{df_sem_apgar5_missing.head()}')"
   ]
  },
  {
   "cell_type": "markdown",
   "metadata": {},
   "source": [
    "# Justificativa das tratativas ex7:\n",
    "\n",
    "IDADEMAE: Optei por preencher com a mediana, que é o valor que está no meio dos dados, para manter as idades próximas do que já tínhamos.\n",
    "\n",
    "ESCMAE: Preenchi com a categoria que aparecia mais vezes, a mais comum, para não mudar muito a distribuição das informações.\n",
    "\n",
    "GESTACAO, GRAVIDEZ, LOCNASC: Coloquei os valores mais comuns, acreditando que representam bem a maioria dos casos.\n",
    "\n",
    "CONSULTAS: Optei por usar a mediana para não ser muito influenciado por valores muito altos ou baixos.\n",
    "\n",
    "Busquei equilibrar entre manter as características originais dos dados e inserir informações que fazem sentido"
   ]
  },
  {
   "cell_type": "code",
   "execution_count": 111,
   "metadata": {},
   "outputs": [
    {
     "name": "stdout",
     "output_type": "stream",
     "text": [
      "\n",
      "DataFrame após categorizar Apgar:\n",
      "       LOCNASC  IDADEMAE  ESTCIVMAE           ESCMAE  QTDFILVIVO  \\\n",
      "0            1        19        5.0      8 a 11 anos         0.0   \n",
      "1            1        29        2.0      8 a 11 anos         1.0   \n",
      "2            1        37        9.0      8 a 11 anos         2.0   \n",
      "3            1        30        5.0  12 anos ou mais         0.0   \n",
      "4            1        30        2.0      8 a 11 anos         1.0   \n",
      "...        ...       ...        ...              ...         ...   \n",
      "27023        1        32        2.0  12 anos ou mais         1.0   \n",
      "27024        1        19        1.0      8 a 11 anos         0.0   \n",
      "27025        1        24        2.0      8 a 11 anos         0.0   \n",
      "27026        1        21        2.0      8 a 11 anos         1.0   \n",
      "27027        1        18        5.0      8 a 11 anos         1.0   \n",
      "\n",
      "              GESTACAO GRAVIDEZ  CONSULTAS  APGAR5 APGAR_CATEGORIA  \n",
      "0      37 a 41 semanas    Única          4    10.0          Normal  \n",
      "1      37 a 41 semanas    Única          4     9.0          Normal  \n",
      "2      37 a 41 semanas    Única          4    10.0          Normal  \n",
      "3      37 a 41 semanas    Única          3    10.0          Normal  \n",
      "4      37 a 41 semanas    Única          4    10.0          Normal  \n",
      "...                ...      ...        ...     ...             ...  \n",
      "27023  32 a 36 semanas    Única          4     9.0          Normal  \n",
      "27024  37 a 41 semanas    Única          4     9.0          Normal  \n",
      "27025  37 a 41 semanas    Única          4    10.0          Normal  \n",
      "27026  32 a 36 semanas    Única          4     9.0          Normal  \n",
      "27027  37 a 41 semanas    Única          4     8.0          Normal  \n",
      "\n",
      "[26925 rows x 10 columns]\n",
      "Frequências da categorização de Apgar:\n",
      "APGAR_CATEGORIA\n",
      "Normal               26463\n",
      "Mild Asphyxia          320\n",
      "Severe Asphyxia         74\n",
      "Moderate Asphyxia       68\n",
      "Name: count, dtype: int64\n"
     ]
    }
   ],
   "source": [
    "# 8) seu código aqui\n",
    "df_sem_apgar5_missing['APGAR_CATEGORIA'] = pd.cut(df_sem_apgar5_missing['APGAR5'], bins=[-1, 3, 5, 7, 10], labels=['Severe Asphyxia', 'Moderate Asphyxia', 'Mild Asphyxia', 'Normal'])\n",
    "print(f'\\nDataFrame após categorizar Apgar:\\n{df_sem_apgar5_missing}')\n",
    "frequencias_apgar_categoria = df_sem_apgar5_missing['APGAR_CATEGORIA'].value_counts()\n",
    "print(f'Frequências da categorização de Apgar:\\n{frequencias_apgar_categoria}')"
   ]
  },
  {
   "cell_type": "code",
   "execution_count": 112,
   "metadata": {},
   "outputs": [
    {
     "name": "stdout",
     "output_type": "stream",
     "text": [
      "\n",
      "DataFrame após renomear variáveis para snake case:\n",
      "       locnasc  idademae  estcivmae           escmae  qtdfilvivo  \\\n",
      "0            1        19        5.0      8 a 11 anos         0.0   \n",
      "1            1        29        2.0      8 a 11 anos         1.0   \n",
      "2            1        37        9.0      8 a 11 anos         2.0   \n",
      "3            1        30        5.0  12 anos ou mais         0.0   \n",
      "4            1        30        2.0      8 a 11 anos         1.0   \n",
      "...        ...       ...        ...              ...         ...   \n",
      "27023        1        32        2.0  12 anos ou mais         1.0   \n",
      "27024        1        19        1.0      8 a 11 anos         0.0   \n",
      "27025        1        24        2.0      8 a 11 anos         0.0   \n",
      "27026        1        21        2.0      8 a 11 anos         1.0   \n",
      "27027        1        18        5.0      8 a 11 anos         1.0   \n",
      "\n",
      "              gestacao gravidez  consultas  apgar5 apgar_categoria  \n",
      "0      37 a 41 semanas    Única          4    10.0          Normal  \n",
      "1      37 a 41 semanas    Única          4     9.0          Normal  \n",
      "2      37 a 41 semanas    Única          4    10.0          Normal  \n",
      "3      37 a 41 semanas    Única          3    10.0          Normal  \n",
      "4      37 a 41 semanas    Única          4    10.0          Normal  \n",
      "...                ...      ...        ...     ...             ...  \n",
      "27023  32 a 36 semanas    Única          4     9.0          Normal  \n",
      "27024  37 a 41 semanas    Única          4     9.0          Normal  \n",
      "27025  37 a 41 semanas    Única          4    10.0          Normal  \n",
      "27026  32 a 36 semanas    Única          4     9.0          Normal  \n",
      "27027  37 a 41 semanas    Única          4     8.0          Normal  \n",
      "\n",
      "[26925 rows x 10 columns]\n"
     ]
    }
   ],
   "source": [
    "# 9) seu código aqui\n",
    "df_sem_apgar5_missing.columns = df_sem_apgar5_missing.columns.str.lower().str.replace(' ', '_')\n",
    "print(f'\\nDataFrame após renomear variáveis para snake case:\\n{df_sem_apgar5_missing}')"
   ]
  }
 ],
 "metadata": {
  "kernelspec": {
   "display_name": "Python 3",
   "language": "python",
   "name": "python3"
  },
  "language_info": {
   "codemirror_mode": {
    "name": "ipython",
    "version": 3
   },
   "file_extension": ".py",
   "mimetype": "text/x-python",
   "name": "python",
   "nbconvert_exporter": "python",
   "pygments_lexer": "ipython3",
   "version": "3.11.5"
  }
 },
 "nbformat": 4,
 "nbformat_minor": 4
}
