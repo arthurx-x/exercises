{
 "cells": [
  {
   "cell_type": "markdown",
   "metadata": {},
   "source": [
    "# Livro para consulta:\n",
    "- https://jakevdp.github.io/PythonDataScienceHandbook/03.08-aggregation-and-grouping.html\n",
    "- https://jakevdp.github.io/PythonDataScienceHandbook/03.09-pivot-tables.html\n",
    "    "
   ]
  },
  {
   "cell_type": "markdown",
   "metadata": {},
   "source": [
    "# 1. Importando bibliotecas <a name=\"import\"></a>\n",
    "\n",
    "<div style=\"text-align: right\"\n",
    "     \n",
    "[Voltar ao índice](#Contents)"
   ]
  },
  {
   "cell_type": "code",
   "execution_count": 54,
   "metadata": {
    "ExecuteTime": {
     "end_time": "2021-06-06T21:12:37.298706Z",
     "start_time": "2021-06-06T21:12:36.656481Z"
    }
   },
   "outputs": [],
   "source": [
    "import numpy as np\n",
    "import pandas as pd\n",
    "import seaborn as sns\n",
    "import matplotlib.pyplot as plt\n",
    "import matplotlib_inline"
   ]
  },
  {
   "cell_type": "markdown",
   "metadata": {},
   "source": [
    "# 2. Carregando o dataframe SINASC <a name=\"read\"></a>\n",
    "<div style=\"text-align: right\"\n",
    "     \n",
    "[Voltar ao índice](#Contents)"
   ]
  },
  {
   "cell_type": "code",
   "execution_count": 10,
   "metadata": {
    "ExecuteTime": {
     "end_time": "2021-06-06T21:12:37.762376Z",
     "start_time": "2021-06-06T21:12:37.728383Z"
    },
    "scrolled": true
   },
   "outputs": [
    {
     "data": {
      "text/html": [
       "<div>\n",
       "<style scoped>\n",
       "    .dataframe tbody tr th:only-of-type {\n",
       "        vertical-align: middle;\n",
       "    }\n",
       "\n",
       "    .dataframe tbody tr th {\n",
       "        vertical-align: top;\n",
       "    }\n",
       "\n",
       "    .dataframe thead th {\n",
       "        text-align: right;\n",
       "    }\n",
       "</style>\n",
       "<table border=\"1\" class=\"dataframe\">\n",
       "  <thead>\n",
       "    <tr style=\"text-align: right;\">\n",
       "      <th></th>\n",
       "      <th>ORIGEM</th>\n",
       "      <th>CODESTAB</th>\n",
       "      <th>CODMUNNASC</th>\n",
       "      <th>LOCNASC</th>\n",
       "      <th>IDADEMAE</th>\n",
       "      <th>ESTCIVMAE</th>\n",
       "      <th>ESCMAE</th>\n",
       "      <th>CODOCUPMAE</th>\n",
       "      <th>QTDFILVIVO</th>\n",
       "      <th>QTDFILMORT</th>\n",
       "      <th>...</th>\n",
       "      <th>KOTELCHUCK</th>\n",
       "      <th>CONTADOR</th>\n",
       "      <th>munResStatus</th>\n",
       "      <th>munResTipo</th>\n",
       "      <th>munResNome</th>\n",
       "      <th>munResUf</th>\n",
       "      <th>munResLat</th>\n",
       "      <th>munResLon</th>\n",
       "      <th>munResAlt</th>\n",
       "      <th>munResArea</th>\n",
       "    </tr>\n",
       "  </thead>\n",
       "  <tbody>\n",
       "    <tr>\n",
       "      <th>0</th>\n",
       "      <td>1</td>\n",
       "      <td>2679477.0</td>\n",
       "      <td>110001</td>\n",
       "      <td>1</td>\n",
       "      <td>19</td>\n",
       "      <td>5.0</td>\n",
       "      <td>8 a 11 anos</td>\n",
       "      <td>NaN</td>\n",
       "      <td>0.0</td>\n",
       "      <td>0.0</td>\n",
       "      <td>...</td>\n",
       "      <td>5</td>\n",
       "      <td>1</td>\n",
       "      <td>ATIVO</td>\n",
       "      <td>MUNIC</td>\n",
       "      <td>Alta Floresta D'Oeste</td>\n",
       "      <td>Rondônia</td>\n",
       "      <td>-11.93554</td>\n",
       "      <td>-61.99982</td>\n",
       "      <td>338.0</td>\n",
       "      <td>7067.025</td>\n",
       "    </tr>\n",
       "    <tr>\n",
       "      <th>1</th>\n",
       "      <td>1</td>\n",
       "      <td>2679477.0</td>\n",
       "      <td>110001</td>\n",
       "      <td>1</td>\n",
       "      <td>29</td>\n",
       "      <td>2.0</td>\n",
       "      <td>8 a 11 anos</td>\n",
       "      <td>999992.0</td>\n",
       "      <td>1.0</td>\n",
       "      <td>0.0</td>\n",
       "      <td>...</td>\n",
       "      <td>5</td>\n",
       "      <td>2</td>\n",
       "      <td>ATIVO</td>\n",
       "      <td>MUNIC</td>\n",
       "      <td>Alta Floresta D'Oeste</td>\n",
       "      <td>Rondônia</td>\n",
       "      <td>-11.93554</td>\n",
       "      <td>-61.99982</td>\n",
       "      <td>338.0</td>\n",
       "      <td>7067.025</td>\n",
       "    </tr>\n",
       "    <tr>\n",
       "      <th>2</th>\n",
       "      <td>1</td>\n",
       "      <td>2679477.0</td>\n",
       "      <td>110001</td>\n",
       "      <td>1</td>\n",
       "      <td>37</td>\n",
       "      <td>9.0</td>\n",
       "      <td>8 a 11 anos</td>\n",
       "      <td>513205.0</td>\n",
       "      <td>2.0</td>\n",
       "      <td>0.0</td>\n",
       "      <td>...</td>\n",
       "      <td>5</td>\n",
       "      <td>3</td>\n",
       "      <td>ATIVO</td>\n",
       "      <td>MUNIC</td>\n",
       "      <td>Alta Floresta D'Oeste</td>\n",
       "      <td>Rondônia</td>\n",
       "      <td>-11.93554</td>\n",
       "      <td>-61.99982</td>\n",
       "      <td>338.0</td>\n",
       "      <td>7067.025</td>\n",
       "    </tr>\n",
       "    <tr>\n",
       "      <th>3</th>\n",
       "      <td>1</td>\n",
       "      <td>2516500.0</td>\n",
       "      <td>110001</td>\n",
       "      <td>1</td>\n",
       "      <td>30</td>\n",
       "      <td>5.0</td>\n",
       "      <td>12 anos ou mais</td>\n",
       "      <td>231205.0</td>\n",
       "      <td>0.0</td>\n",
       "      <td>0.0</td>\n",
       "      <td>...</td>\n",
       "      <td>4</td>\n",
       "      <td>4</td>\n",
       "      <td>ATIVO</td>\n",
       "      <td>MUNIC</td>\n",
       "      <td>Alto Alegre dos Parecis</td>\n",
       "      <td>Rondônia</td>\n",
       "      <td>-12.13178</td>\n",
       "      <td>-61.85308</td>\n",
       "      <td>397.0</td>\n",
       "      <td>3958.273</td>\n",
       "    </tr>\n",
       "    <tr>\n",
       "      <th>4</th>\n",
       "      <td>1</td>\n",
       "      <td>2516500.0</td>\n",
       "      <td>110001</td>\n",
       "      <td>1</td>\n",
       "      <td>30</td>\n",
       "      <td>2.0</td>\n",
       "      <td>8 a 11 anos</td>\n",
       "      <td>999992.0</td>\n",
       "      <td>1.0</td>\n",
       "      <td>0.0</td>\n",
       "      <td>...</td>\n",
       "      <td>5</td>\n",
       "      <td>5</td>\n",
       "      <td>ATIVO</td>\n",
       "      <td>MUNIC</td>\n",
       "      <td>Alta Floresta D'Oeste</td>\n",
       "      <td>Rondônia</td>\n",
       "      <td>-11.93554</td>\n",
       "      <td>-61.99982</td>\n",
       "      <td>338.0</td>\n",
       "      <td>7067.025</td>\n",
       "    </tr>\n",
       "  </tbody>\n",
       "</table>\n",
       "<p>5 rows × 69 columns</p>\n",
       "</div>"
      ],
      "text/plain": [
       "   ORIGEM   CODESTAB  CODMUNNASC  LOCNASC  IDADEMAE  ESTCIVMAE  \\\n",
       "0       1  2679477.0      110001        1        19        5.0   \n",
       "1       1  2679477.0      110001        1        29        2.0   \n",
       "2       1  2679477.0      110001        1        37        9.0   \n",
       "3       1  2516500.0      110001        1        30        5.0   \n",
       "4       1  2516500.0      110001        1        30        2.0   \n",
       "\n",
       "            ESCMAE  CODOCUPMAE  QTDFILVIVO  QTDFILMORT  ...  KOTELCHUCK  \\\n",
       "0      8 a 11 anos         NaN         0.0         0.0  ...           5   \n",
       "1      8 a 11 anos    999992.0         1.0         0.0  ...           5   \n",
       "2      8 a 11 anos    513205.0         2.0         0.0  ...           5   \n",
       "3  12 anos ou mais    231205.0         0.0         0.0  ...           4   \n",
       "4      8 a 11 anos    999992.0         1.0         0.0  ...           5   \n",
       "\n",
       "  CONTADOR munResStatus munResTipo               munResNome  munResUf  \\\n",
       "0        1        ATIVO      MUNIC    Alta Floresta D'Oeste  Rondônia   \n",
       "1        2        ATIVO      MUNIC    Alta Floresta D'Oeste  Rondônia   \n",
       "2        3        ATIVO      MUNIC    Alta Floresta D'Oeste  Rondônia   \n",
       "3        4        ATIVO      MUNIC  Alto Alegre dos Parecis  Rondônia   \n",
       "4        5        ATIVO      MUNIC    Alta Floresta D'Oeste  Rondônia   \n",
       "\n",
       "   munResLat munResLon  munResAlt  munResArea  \n",
       "0  -11.93554 -61.99982      338.0    7067.025  \n",
       "1  -11.93554 -61.99982      338.0    7067.025  \n",
       "2  -11.93554 -61.99982      338.0    7067.025  \n",
       "3  -12.13178 -61.85308      397.0    3958.273  \n",
       "4  -11.93554 -61.99982      338.0    7067.025  \n",
       "\n",
       "[5 rows x 69 columns]"
      ]
     },
     "execution_count": 10,
     "metadata": {},
     "output_type": "execute_result"
    }
   ],
   "source": [
    "sinasc_raw = pd.read_csv('SINASC_RO_2019.csv')\n",
    "sinasc_raw.head()"
   ]
  },
  {
   "cell_type": "markdown",
   "metadata": {},
   "source": [
    "# Tarefa 1"
   ]
  },
  {
   "cell_type": "markdown",
   "metadata": {},
   "source": [
    "### 1. Idade media das mães e dos pais por município (coluna munResNome)\n"
   ]
  },
  {
   "cell_type": "code",
   "execution_count": 91,
   "metadata": {},
   "outputs": [
    {
     "name": "stdout",
     "output_type": "stream",
     "text": [
      "                            IDADEMAE   IDADEPAI\n",
      "munResNome                                     \n",
      "Alta Floresta D'Oeste      25.991826  29.548701\n",
      "Alto Alegre dos Parecis    24.844156  29.179104\n",
      "Alto Paraíso               24.960177  28.833333\n",
      "Alvorada D'Oeste           25.770732  30.757282\n",
      "Ariquemes                  25.607866  32.466667\n",
      "Buritis                    25.559177  30.812500\n",
      "Cabixi                     26.037500  34.333333\n",
      "Cacaulândia                25.546667  36.333333\n",
      "Cacoal                     26.890102  30.931854\n",
      "Campo Novo de Rondônia     24.825301  30.500000\n",
      "Candeias do Jamari         25.243323  29.894737\n",
      "Castanheiras               27.281250  30.392857\n",
      "Cerejeiras                 27.240506  31.652778\n",
      "Chupinguaia                25.333333  29.629630\n",
      "Colorado do Oeste          27.602804  34.354839\n",
      "Corumbiara                 24.716535  32.470588\n",
      "Costa Marques              24.412017  30.613636\n",
      "Cujubim                    24.482927  31.400000\n",
      "Espigão D'Oeste            26.093333  31.198113\n",
      "Governador Jorge Teixeira  24.401786  29.222222\n",
      "Guajará-Mirim              25.462228  30.470588\n",
      "Itapuã do Oeste            26.064220  42.500000\n",
      "Jaru                       25.982974  32.197183\n",
      "Ji-Paraná                  26.361137  31.132239\n",
      "Machadinho D'Oeste         25.480000  31.326923\n",
      "Ministro Andreazza         27.904762  33.849315\n",
      "Mirante da Serra           26.304878  32.154762\n",
      "Monte Negro                25.648241  34.678571\n",
      "Município ignorado - RO    24.000000  22.000000\n",
      "Nova Brasilândia D'Oeste   26.222222  30.520833\n",
      "Nova Mamoré                25.326389  31.692308\n",
      "Nova União                 26.894231  31.371429\n",
      "Novo Horizonte do Oeste    26.938776  31.588235\n",
      "Ouro Preto do Oeste        26.375594  31.233244\n",
      "Parecis                    26.454545  32.473684\n",
      "Pimenta Bueno              25.199675  29.745174\n",
      "Pimenteiras do Oeste       25.075000  35.600000\n",
      "Porto Velho                26.312670  32.352679\n",
      "Presidente Médici          25.796053  30.150754\n",
      "Primavera de Rondônia      27.023256  31.888889\n",
      "Rio Crespo                 26.660000  28.000000\n",
      "Rolim de Moura             26.600863  30.360479\n",
      "Santa Luzia D'Oeste        26.121212  30.703297\n",
      "Seringueiras               24.910714  30.500000\n",
      "São Felipe D'Oeste         26.481481  31.395833\n",
      "São Francisco do Guaporé   25.660066  31.638889\n",
      "São Miguel do Guaporé      25.926346  32.666667\n",
      "Teixeirópolis              26.031250  31.500000\n",
      "Theobroma                  25.536082  30.083333\n",
      "Urupá                      26.688235  31.008929\n",
      "Vale do Anari              26.096774  34.000000\n",
      "Vale do Paraíso            25.679012  29.976744\n",
      "Vilhena                    26.433962  34.152941\n"
     ]
    }
   ],
   "source": [
    "idade_media = sinasc_raw.groupby('munResNome').agg({'IDADEMAE': 'mean', 'IDADEPAI': 'mean'})\n",
    "print(idade_media)"
   ]
  },
  {
   "cell_type": "markdown",
   "metadata": {},
   "source": [
    "### 2. Peso médio dos bebes por sexo que nasceram no dia do seu aniversário por faixas de escolaridade mae\n",
    "Ex: Você, aluna(o), nasceu no dia 10/01, então você precisa filtrar o conjunto de dados nessa data e calcular o peso médio dos bebês de cada sexo por faixa de escolaridade da mãe."
   ]
  },
  {
   "cell_type": "code",
   "execution_count": 92,
   "metadata": {},
   "outputs": [
    {
     "name": "stdout",
     "output_type": "stream",
     "text": [
      "SEXO       ESCMAE         \n",
      "Feminino   12 anos ou mais    3040.555556\n",
      "           4 a 7 anos         2952.500000\n",
      "           8 a 11 anos        3316.933333\n",
      "Masculino  1 a 3 anos         3035.000000\n",
      "           12 anos ou mais    3263.500000\n",
      "           4 a 7 anos         3713.750000\n",
      "           8 a 11 anos        3059.064516\n",
      "Name: PESO, dtype: float64\n"
     ]
    }
   ],
   "source": [
    "aniversario = sinasc_raw[(sinasc_raw['DTNASC'].dt.day == 12) & (sinasc_raw['DTNASC'].dt.month == 7)]\n",
    "peso_medio_por_sexo_escolaridade = aniversario.groupby(['SEXO', 'ESCMAE'])['PESO'].mean()\n",
    "print(peso_medio_por_sexo_escolaridade)"
   ]
  },
  {
   "cell_type": "markdown",
   "metadata": {},
   "source": [
    "### 3. Qual o municipio que nasceu menos bebe em 2019?\n",
    "    - qual a idade media, maxima, minima das maes nesse municipio?\n",
    "    - qual a idade media, maxima, minima dos pais nesse municipio?"
   ]
  },
  {
   "cell_type": "code",
   "execution_count": 89,
   "metadata": {},
   "outputs": [
    {
     "name": "stdout",
     "output_type": "stream",
     "text": [
      "Menos bebês nasceram em Castanheiras em 2019.\n",
      "Idade média mães: 27.28125\n",
      "Idade máxima mães: 39\n",
      "Idade minima mães: 17\n",
      "Idade média pais: 30.392857142857142\n",
      "Idade máxima pais: 43.0\n",
      "Idade minima pais: 17.0\n"
     ]
    }
   ],
   "source": [
    "dados_menos_bebe = sinasc_raw[sinasc_raw['munResNome'] != 'Município ignorado - RO']\n",
    "menos_bebe = dados_menos_bebe['munResNome'].value_counts().idxmin()\n",
    "idade_media_min_mae = dados_menos_bebe[dados_menos_bebe['munResNome'] == menos_bebe]['IDADEMAE'].mean()\n",
    "idade_max_mae = dados_menos_bebe[dados_menos_bebe['munResNome'] == menos_bebe]['IDADEMAE'].max()\n",
    "idade_min_mae = dados_menos_bebe[dados_menos_bebe['munResNome'] == menos_bebe]['IDADEMAE'].min()\n",
    "idade_media_min_pai = dados_menos_bebe[dados_menos_bebe['munResNome'] == menos_bebe]['IDADEPAI'].mean()\n",
    "idade_max_pai = dados_menos_bebe[dados_menos_bebe['munResNome'] == menos_bebe]['IDADEPAI'].max()\n",
    "idade_min_pai = dados_menos_bebe[dados_menos_bebe['munResNome'] == menos_bebe]['IDADEPAI'].min()\n",
    "print(f\"Menos bebês nasceram em {menos_bebe} em 2019.\")\n",
    "print(f\"Idade média mães: {idade_media_min_mae}\")\n",
    "print(f\"Idade máxima mães: {idade_max_mae}\")\n",
    "print(f\"Idade minima mães: {idade_min_mae}\")\n",
    "print(f\"Idade média pais: {idade_media_min_pai}\")\n",
    "print(f\"Idade máxima pais: {idade_max_pai}\")\n",
    "print(f\"Idade minima pais: {idade_min_pai}\")"
   ]
  },
  {
   "cell_type": "markdown",
   "metadata": {},
   "source": [
    "### 4. Qual o municipio que nasceu mais bebe no mês de março?\n",
    "    - qual a quantidade de filhos vivos media, maxima, minima nesse municipio?\n",
    "    - qual a idade media, maxima, minima dos pais nesse municipio?\n",
    "\n"
   ]
  },
  {
   "cell_type": "code",
   "execution_count": 86,
   "metadata": {},
   "outputs": [
    {
     "name": "stdout",
     "output_type": "stream",
     "text": [
      "Mais bebês nasceram em Porto Velho em março.\n",
      "Filhos vivos estatísticas:\n",
      ": count    7319.000000\n",
      "mean        1.167236\n",
      "std         1.222640\n",
      "min         0.000000\n",
      "25%         0.000000\n",
      "50%         1.000000\n",
      "75%         2.000000\n",
      "max        12.000000\n",
      "Name: QTDFILVIVO, dtype: float64\n",
      "Estatísticas Paiss: count    672.000000\n",
      "mean      32.352679\n",
      "std        7.865620\n",
      "min       16.000000\n",
      "25%       27.000000\n",
      "50%       32.000000\n",
      "75%       37.000000\n",
      "max       65.000000\n",
      "Name: IDADEPAI, dtype: float64\n"
     ]
    }
   ],
   "source": [
    "mais_bebe_marco = sinasc_raw[sinasc_raw['DTNASC'].dt.month == 3]['munResNome'].value_counts().idxmax()\n",
    "dados_mais_bebe_marco = sinasc_raw[sinasc_raw['munResNome'] == mais_bebe_marco]\n",
    "estatisticas_filhos = dados_mais_bebe_marco['QTDFILVIVO'].describe()\n",
    "estatisticas_idade_pais = dados_mais_bebe_marco['IDADEPAI'].describe()\n",
    "print(f\"Mais bebês nasceram em {mais_bebe_marco} em março.\")\n",
    "print(f\"Filhos vivos estatísticas:\\n: {estatisticas_filhos}\")\n",
    "print(f\"Estatísticas Paiss: {estatisticas_idade_pais}\")"
   ]
  },
  {
   "cell_type": "markdown",
   "metadata": {},
   "source": [
    "### Analise as respostas encontradas, tire algum insight delas, conte pra gente algo encontrado nos dados. Algo que você julgue relevante e novo pra você."
   ]
  },
  {
   "cell_type": "markdown",
   "metadata": {},
   "source": [
    "Exemplo:\n",
    "- Ah, descobri que a idade mediana das mulheres que deram a luz no ano de 2019 dos municipios x é maior que y."
   ]
  },
  {
   "cell_type": "markdown",
   "metadata": {},
   "source": [
    "- Em Castanheiras, onde nasceram menos bebês em 2019, a idade média das mães é de 27,28, com uma idade mínima de 17 e uma idade máxima de 39. \n",
    "\n",
    "- A idade média dos pais ali é de 28 e 30, variando de 17 a 43.\n",
    "\n",
    "- O peso médio ao nascer de bebês nascidos em 12 de julho varia de acordo com o gênero e o nível de escolaridade da mãe.\n",
    "\n",
    "- Para mulheres, o peso médio ao nascer é maior para mães com 8 a 11 anos de educação (3316,93g), enquanto para homens, é maior para mães com 4 a 7 anos de educação (3713,75g).\n",
    "\n",
    "- O município com mais nascimentos em março é Porto Velho.\n",
    "\n",
    "- As estatísticas para o número de filhos nascidos vivos em Porto Velho durante março mostram que a média é de aproximadamente 1,17 crianças, com um máximo de 12 e um mínimo de 0. \n",
    "\n",
    "- A idade média dos pais em Porto Velho é de cerca de 32,35, com uma idade mínima de 16 e uma idade máxima de 65."
   ]
  }
 ],
 "metadata": {
  "kernelspec": {
   "display_name": "Python 3",
   "language": "python",
   "name": "python3"
  },
  "language_info": {
   "codemirror_mode": {
    "name": "ipython",
    "version": 3
   },
   "file_extension": ".py",
   "mimetype": "text/x-python",
   "name": "python",
   "nbconvert_exporter": "python",
   "pygments_lexer": "ipython3",
   "version": "3.11.5"
  },
  "varInspector": {
   "cols": {
    "lenName": 16,
    "lenType": 16,
    "lenVar": 40
   },
   "kernels_config": {
    "python": {
     "delete_cmd_postfix": "",
     "delete_cmd_prefix": "del ",
     "library": "var_list.py",
     "varRefreshCmd": "print(var_dic_list())"
    },
    "r": {
     "delete_cmd_postfix": ") ",
     "delete_cmd_prefix": "rm(",
     "library": "var_list.r",
     "varRefreshCmd": "cat(var_dic_list()) "
    }
   },
   "types_to_exclude": [
    "module",
    "function",
    "builtin_function_or_method",
    "instance",
    "_Feature"
   ],
   "window_display": false
  }
 },
 "nbformat": 4,
 "nbformat_minor": 4
}
