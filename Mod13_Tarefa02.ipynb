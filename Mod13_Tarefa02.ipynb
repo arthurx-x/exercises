{
 "cells": [
  {
   "cell_type": "markdown",
   "metadata": {},
   "source": [
    "# EBAC - Regressão II - regressão múltipla\n",
    "\n",
    "## Tarefa I"
   ]
  },
  {
   "cell_type": "markdown",
   "metadata": {},
   "source": [
    "#### Previsão de renda II\n",
    "\n",
    "Vamos continuar trabalhando com a base 'previsao_de_renda.csv', que é a base do seu próximo projeto. Vamos usar os recursos que vimos até aqui nesta base.\n",
    "\n",
    "|variavel|descrição|\n",
    "|-|-|\n",
    "|data_ref                | Data de referência de coleta das variáveis |\n",
    "|index                   | Código de identificação do cliente|\n",
    "|sexo                    | Sexo do cliente|\n",
    "|posse_de_veiculo        | Indica se o cliente possui veículo|\n",
    "|posse_de_imovel         | Indica se o cliente possui imóvel|\n",
    "|qtd_filhos              | Quantidade de filhos do cliente|\n",
    "|tipo_renda              | Tipo de renda do cliente|\n",
    "|educacao                | Grau de instrução do cliente|\n",
    "|estado_civil            | Estado civil do cliente|\n",
    "|tipo_residencia         | Tipo de residência do cliente (própria, alugada etc)|\n",
    "|idade                   | Idade do cliente|\n",
    "|tempo_emprego           | Tempo no emprego atual|\n",
    "|qt_pessoas_residencia   | Quantidade de pessoas que moram na residência|\n",
    "|renda                   | Renda em reais|"
   ]
  },
  {
   "cell_type": "code",
   "execution_count": 171,
   "metadata": {},
   "outputs": [],
   "source": [
    "import pandas as pd\n",
    "import numpy as np\n",
    "import statsmodels.api as sm\n",
    "from sklearn.tree import DecisionTreeRegressor\n",
    "from sklearn.model_selection import GridSearchCV, train_test_split\n",
    "from sklearn.linear_model import Ridge, Lasso, LinearRegression\n",
    "from sklearn.metrics import mean_squared_error, r2_score\n",
    "from sklearn.preprocessing import StandardScaler, PolynomialFeatures"
   ]
  },
  {
   "cell_type": "code",
   "execution_count": 172,
   "metadata": {},
   "outputs": [
    {
     "data": {
      "text/html": [
       "<div>\n",
       "<style scoped>\n",
       "    .dataframe tbody tr th:only-of-type {\n",
       "        vertical-align: middle;\n",
       "    }\n",
       "\n",
       "    .dataframe tbody tr th {\n",
       "        vertical-align: top;\n",
       "    }\n",
       "\n",
       "    .dataframe thead th {\n",
       "        text-align: right;\n",
       "    }\n",
       "</style>\n",
       "<table border=\"1\" class=\"dataframe\">\n",
       "  <thead>\n",
       "    <tr style=\"text-align: right;\">\n",
       "      <th></th>\n",
       "      <th>Unnamed: 0</th>\n",
       "      <th>data_ref</th>\n",
       "      <th>id_cliente</th>\n",
       "      <th>sexo</th>\n",
       "      <th>posse_de_veiculo</th>\n",
       "      <th>posse_de_imovel</th>\n",
       "      <th>qtd_filhos</th>\n",
       "      <th>tipo_renda</th>\n",
       "      <th>educacao</th>\n",
       "      <th>estado_civil</th>\n",
       "      <th>tipo_residencia</th>\n",
       "      <th>idade</th>\n",
       "      <th>tempo_emprego</th>\n",
       "      <th>qt_pessoas_residencia</th>\n",
       "      <th>renda</th>\n",
       "    </tr>\n",
       "  </thead>\n",
       "  <tbody>\n",
       "    <tr>\n",
       "      <th>0</th>\n",
       "      <td>0</td>\n",
       "      <td>2015-01-01</td>\n",
       "      <td>15056</td>\n",
       "      <td>F</td>\n",
       "      <td>False</td>\n",
       "      <td>True</td>\n",
       "      <td>0</td>\n",
       "      <td>Empresário</td>\n",
       "      <td>Secundário</td>\n",
       "      <td>Solteiro</td>\n",
       "      <td>Casa</td>\n",
       "      <td>26</td>\n",
       "      <td>6.602740</td>\n",
       "      <td>1.0</td>\n",
       "      <td>8060.34</td>\n",
       "    </tr>\n",
       "    <tr>\n",
       "      <th>1</th>\n",
       "      <td>1</td>\n",
       "      <td>2015-01-01</td>\n",
       "      <td>9968</td>\n",
       "      <td>M</td>\n",
       "      <td>True</td>\n",
       "      <td>True</td>\n",
       "      <td>0</td>\n",
       "      <td>Assalariado</td>\n",
       "      <td>Superior completo</td>\n",
       "      <td>Casado</td>\n",
       "      <td>Casa</td>\n",
       "      <td>28</td>\n",
       "      <td>7.183562</td>\n",
       "      <td>2.0</td>\n",
       "      <td>1852.15</td>\n",
       "    </tr>\n",
       "    <tr>\n",
       "      <th>2</th>\n",
       "      <td>2</td>\n",
       "      <td>2015-01-01</td>\n",
       "      <td>4312</td>\n",
       "      <td>F</td>\n",
       "      <td>True</td>\n",
       "      <td>True</td>\n",
       "      <td>0</td>\n",
       "      <td>Empresário</td>\n",
       "      <td>Superior completo</td>\n",
       "      <td>Casado</td>\n",
       "      <td>Casa</td>\n",
       "      <td>35</td>\n",
       "      <td>0.838356</td>\n",
       "      <td>2.0</td>\n",
       "      <td>2253.89</td>\n",
       "    </tr>\n",
       "    <tr>\n",
       "      <th>3</th>\n",
       "      <td>3</td>\n",
       "      <td>2015-01-01</td>\n",
       "      <td>10639</td>\n",
       "      <td>F</td>\n",
       "      <td>False</td>\n",
       "      <td>True</td>\n",
       "      <td>1</td>\n",
       "      <td>Servidor público</td>\n",
       "      <td>Superior completo</td>\n",
       "      <td>Casado</td>\n",
       "      <td>Casa</td>\n",
       "      <td>30</td>\n",
       "      <td>4.846575</td>\n",
       "      <td>3.0</td>\n",
       "      <td>6600.77</td>\n",
       "    </tr>\n",
       "    <tr>\n",
       "      <th>4</th>\n",
       "      <td>4</td>\n",
       "      <td>2015-01-01</td>\n",
       "      <td>7064</td>\n",
       "      <td>M</td>\n",
       "      <td>True</td>\n",
       "      <td>False</td>\n",
       "      <td>0</td>\n",
       "      <td>Assalariado</td>\n",
       "      <td>Secundário</td>\n",
       "      <td>Solteiro</td>\n",
       "      <td>Governamental</td>\n",
       "      <td>33</td>\n",
       "      <td>4.293151</td>\n",
       "      <td>1.0</td>\n",
       "      <td>6475.97</td>\n",
       "    </tr>\n",
       "  </tbody>\n",
       "</table>\n",
       "</div>"
      ],
      "text/plain": [
       "   Unnamed: 0    data_ref  id_cliente sexo  posse_de_veiculo  posse_de_imovel  \\\n",
       "0           0  2015-01-01       15056    F             False             True   \n",
       "1           1  2015-01-01        9968    M              True             True   \n",
       "2           2  2015-01-01        4312    F              True             True   \n",
       "3           3  2015-01-01       10639    F             False             True   \n",
       "4           4  2015-01-01        7064    M              True            False   \n",
       "\n",
       "   qtd_filhos        tipo_renda           educacao estado_civil  \\\n",
       "0           0        Empresário         Secundário     Solteiro   \n",
       "1           0       Assalariado  Superior completo       Casado   \n",
       "2           0        Empresário  Superior completo       Casado   \n",
       "3           1  Servidor público  Superior completo       Casado   \n",
       "4           0       Assalariado         Secundário     Solteiro   \n",
       "\n",
       "  tipo_residencia  idade  tempo_emprego  qt_pessoas_residencia    renda  \n",
       "0            Casa     26       6.602740                    1.0  8060.34  \n",
       "1            Casa     28       7.183562                    2.0  1852.15  \n",
       "2            Casa     35       0.838356                    2.0  2253.89  \n",
       "3            Casa     30       4.846575                    3.0  6600.77  \n",
       "4   Governamental     33       4.293151                    1.0  6475.97  "
      ]
     },
     "execution_count": 172,
     "metadata": {},
     "output_type": "execute_result"
    }
   ],
   "source": [
    "df = pd.read_csv('previsao_de_renda.csv')\n",
    "df.head()"
   ]
  },
  {
   "cell_type": "code",
   "execution_count": 173,
   "metadata": {},
   "outputs": [
    {
     "data": {
      "text/html": [
       "<div>\n",
       "<style scoped>\n",
       "    .dataframe tbody tr th:only-of-type {\n",
       "        vertical-align: middle;\n",
       "    }\n",
       "\n",
       "    .dataframe tbody tr th {\n",
       "        vertical-align: top;\n",
       "    }\n",
       "\n",
       "    .dataframe thead th {\n",
       "        text-align: right;\n",
       "    }\n",
       "</style>\n",
       "<table border=\"1\" class=\"dataframe\">\n",
       "  <thead>\n",
       "    <tr style=\"text-align: right;\">\n",
       "      <th></th>\n",
       "      <th>id_cliente</th>\n",
       "      <th>sexo</th>\n",
       "      <th>posse_de_veiculo</th>\n",
       "      <th>posse_de_imovel</th>\n",
       "      <th>qtd_filhos</th>\n",
       "      <th>tipo_renda</th>\n",
       "      <th>educacao</th>\n",
       "      <th>estado_civil</th>\n",
       "      <th>tipo_residencia</th>\n",
       "      <th>idade</th>\n",
       "      <th>tempo_emprego</th>\n",
       "      <th>qt_pessoas_residencia</th>\n",
       "      <th>renda</th>\n",
       "    </tr>\n",
       "  </thead>\n",
       "  <tbody>\n",
       "    <tr>\n",
       "      <th>0</th>\n",
       "      <td>15056</td>\n",
       "      <td>0</td>\n",
       "      <td>0</td>\n",
       "      <td>1</td>\n",
       "      <td>0</td>\n",
       "      <td>2</td>\n",
       "      <td>2</td>\n",
       "      <td>2</td>\n",
       "      <td>1</td>\n",
       "      <td>26</td>\n",
       "      <td>6</td>\n",
       "      <td>1</td>\n",
       "      <td>8060</td>\n",
       "    </tr>\n",
       "    <tr>\n",
       "      <th>1</th>\n",
       "      <td>9968</td>\n",
       "      <td>1</td>\n",
       "      <td>1</td>\n",
       "      <td>1</td>\n",
       "      <td>0</td>\n",
       "      <td>0</td>\n",
       "      <td>3</td>\n",
       "      <td>0</td>\n",
       "      <td>1</td>\n",
       "      <td>28</td>\n",
       "      <td>7</td>\n",
       "      <td>2</td>\n",
       "      <td>1852</td>\n",
       "    </tr>\n",
       "    <tr>\n",
       "      <th>2</th>\n",
       "      <td>4312</td>\n",
       "      <td>0</td>\n",
       "      <td>1</td>\n",
       "      <td>1</td>\n",
       "      <td>0</td>\n",
       "      <td>2</td>\n",
       "      <td>3</td>\n",
       "      <td>0</td>\n",
       "      <td>1</td>\n",
       "      <td>35</td>\n",
       "      <td>0</td>\n",
       "      <td>2</td>\n",
       "      <td>2253</td>\n",
       "    </tr>\n",
       "    <tr>\n",
       "      <th>3</th>\n",
       "      <td>10639</td>\n",
       "      <td>0</td>\n",
       "      <td>0</td>\n",
       "      <td>1</td>\n",
       "      <td>1</td>\n",
       "      <td>4</td>\n",
       "      <td>3</td>\n",
       "      <td>0</td>\n",
       "      <td>1</td>\n",
       "      <td>30</td>\n",
       "      <td>4</td>\n",
       "      <td>3</td>\n",
       "      <td>6600</td>\n",
       "    </tr>\n",
       "    <tr>\n",
       "      <th>4</th>\n",
       "      <td>7064</td>\n",
       "      <td>1</td>\n",
       "      <td>1</td>\n",
       "      <td>0</td>\n",
       "      <td>0</td>\n",
       "      <td>0</td>\n",
       "      <td>2</td>\n",
       "      <td>2</td>\n",
       "      <td>5</td>\n",
       "      <td>33</td>\n",
       "      <td>4</td>\n",
       "      <td>1</td>\n",
       "      <td>6475</td>\n",
       "    </tr>\n",
       "  </tbody>\n",
       "</table>\n",
       "</div>"
      ],
      "text/plain": [
       "   id_cliente  sexo  posse_de_veiculo  posse_de_imovel  qtd_filhos  \\\n",
       "0       15056     0                 0                1           0   \n",
       "1        9968     1                 1                1           0   \n",
       "2        4312     0                 1                1           0   \n",
       "3       10639     0                 0                1           1   \n",
       "4        7064     1                 1                0           0   \n",
       "\n",
       "   tipo_renda  educacao  estado_civil  tipo_residencia  idade  tempo_emprego  \\\n",
       "0           2         2             2                1     26              6   \n",
       "1           0         3             0                1     28              7   \n",
       "2           2         3             0                1     35              0   \n",
       "3           4         3             0                1     30              4   \n",
       "4           0         2             2                5     33              4   \n",
       "\n",
       "   qt_pessoas_residencia  renda  \n",
       "0                      1   8060  \n",
       "1                      2   1852  \n",
       "2                      2   2253  \n",
       "3                      3   6600  \n",
       "4                      1   6475  "
      ]
     },
     "execution_count": 173,
     "metadata": {},
     "output_type": "execute_result"
    }
   ],
   "source": [
    "df = df.drop(['data_ref', 'Unnamed: 0'], axis=1)\n",
    "object_cols = ['sexo', 'tipo_renda', 'educacao', 'estado_civil', 'tipo_residencia']\n",
    "df[object_cols] = df[object_cols].apply(lambda x: pd.Categorical(x).codes.astype('int64'))\n",
    "bool_cols = ['posse_de_veiculo', 'posse_de_imovel']\n",
    "df[bool_cols] = df[bool_cols].astype(int)\n",
    "float_cols = ['tempo_emprego', 'qt_pessoas_residencia', 'renda']\n",
    "df[float_cols] = df[float_cols].fillna(0).astype('int64')\n",
    "df.head()"
   ]
  },
  {
   "cell_type": "markdown",
   "metadata": {},
   "source": [
    "1. Separe a base em treinamento e teste (25% para teste, 75% para treinamento).\n",
    "2. Rode uma regularização *ridge* com alpha = [0, 0.001, 0.005, 0.01, 0.05, 0.1] e avalie o $R^2$ na base de testes. Qual o melhor modelo?\n",
    "3. Faça o mesmo que no passo 2, com uma regressão *LASSO*. Qual método chega a um melhor resultado?\n",
    "4. Rode um modelo *stepwise*. Avalie o $R^2$ na vase de testes. Qual o melhor resultado?\n",
    "5. Compare os parâmetros e avalie eventuais diferenças. Qual modelo você acha o melhor de todos?\n",
    "6. Partindo dos modelos que você ajustou, tente melhorar o $R^2$ na base de testes. Use a criatividade, veja se consegue inserir alguma transformação ou combinação de variáveis.\n",
    "7. Ajuste uma árvore de regressão e veja se consegue um $R^2$ melhor com ela."
   ]
  },
  {
   "cell_type": "code",
   "execution_count": 174,
   "metadata": {},
   "outputs": [],
   "source": [
    "#1\n",
    "X = df.drop('renda', axis=1)\n",
    "y = df['renda']\n",
    "X_train, X_test, y_train, y_test = train_test_split(X, y, test_size=0.25, random_state=42)"
   ]
  },
  {
   "cell_type": "code",
   "execution_count": 179,
   "metadata": {},
   "outputs": [
    {
     "name": "stdout",
     "output_type": "stream",
     "text": [
      "Ridge com Alpha=0: R2=0.2645277590706099\n",
      "Ridge com Alpha=0.001: R2=0.2645277564358611\n",
      "Ridge com Alpha=0.005: R2=0.2645277458964366\n",
      "Ridge com Alpha=0.01: R2=0.26452773272118857\n",
      "Ridge com Alpha=0.05: R2=0.2645276272805206\n",
      "Ridge com Alpha=0.1: R2=0.26452749538298637\n",
      "Top Ridge: Alpha=0, Top R2=0.2645277590706099\n"
     ]
    }
   ],
   "source": [
    "#2\n",
    "alphas = [0, 0.001, 0.005, 0.01, 0.05, 0.1]\n",
    "r2_scores = []\n",
    "for alpha in alphas:\n",
    "    ridge = Ridge(alpha=alpha)\n",
    "    ridge.fit(X_train, y_train)\n",
    "    y_pred = ridge.predict(X_test)\n",
    "    r2 = r2_score(y_test, y_pred)\n",
    "    r2_scores.append(r2)\n",
    "    print(f\"Ridge com Alpha={alpha}: R2={r2}\")\n",
    "best_alpha = alphas[np.argmax(r2_scores)]\n",
    "best_r2 = max(r2_scores)\n",
    "print(f\"Top Ridge: Alpha={best_alpha}, Top R2={best_r2}\")"
   ]
  },
  {
   "cell_type": "markdown",
   "metadata": {},
   "source": [
    "- Alpha=0 tem o maior valor com o valoar de 0.2645277590706099."
   ]
  },
  {
   "cell_type": "code",
   "execution_count": 183,
   "metadata": {},
   "outputs": [
    {
     "name": "stdout",
     "output_type": "stream",
     "text": [
      "Lasso Alpha=0.001: R2=0.2645277822128944\n",
      "Lasso Alpha=0.005: R2=0.2645278749731865\n",
      "Lasso Alpha=0.01: R2=0.26452799083828094\n",
      "Lasso Alpha=0.05: R2=0.26452891482625585\n",
      "Lasso Alpha=0.1: R2=0.2645300657358387\n",
      "Top Lasso: Alpha=0.1, Top R2=0.2645300657358387\n"
     ]
    }
   ],
   "source": [
    "#3\n",
    "alphas = [0.001, 0.005, 0.01, 0.05, 0.1]\n",
    "r2_scores_lasso = []\n",
    "for alpha in alphas:\n",
    "    lasso = Lasso(alpha=alpha)\n",
    "    lasso.fit(X_train, y_train)\n",
    "    y_pred = lasso.predict(X_test)\n",
    "    r2 = r2_score(y_test, y_pred)\n",
    "    r2_scores_lasso.append(r2)\n",
    "    print(f\"Lasso Alpha={alpha}: R2={r2}\")\n",
    "best_alpha_lasso = alphas[np.argmax(r2_scores_lasso)]\n",
    "best_r2_lasso = max(r2_scores_lasso)\n",
    "print(f\"Top Lasso: Alpha={best_alpha_lasso}, Top R2={best_r2_lasso}\")"
   ]
  },
  {
   "cell_type": "markdown",
   "metadata": {},
   "source": [
    "- O modelo Lasso com Alpha=0.1"
   ]
  },
  {
   "cell_type": "code",
   "execution_count": 195,
   "metadata": {},
   "outputs": [
    {
     "name": "stdout",
     "output_type": "stream",
     "text": [
      "Adicionando: tempo_emprego com p-value 0.0000\n",
      "Adicionando: sexo com p-value 0.0000\n",
      "Adicionando: idade com p-value 0.0000\n",
      "Adicionando: tipo_renda com p-value 0.0000\n",
      "R2 stepwise: 0.26311515828847865\n",
      "Erro quadrático médio stepwise: 49635654.331169404\n"
     ]
    }
   ],
   "source": [
    "#4\n",
    "def stepwise_selection(X, y, initial_list=[], threshold_in=0.01, threshold_out=0.05, verbose=True):\n",
    "    included = list(initial_list)\n",
    "    while True:\n",
    "        changed = False\n",
    "        excluded = list(set(X.columns) - set(included))\n",
    "        new_pval = pd.Series(dtype=float)\n",
    "        for new_column in excluded:\n",
    "            model = sm.OLS(y, sm.add_constant(X[included + [new_column]])).fit()\n",
    "            new_pval[new_column] = model.pvalues[new_column]\n",
    "        best_pval = new_pval.min()\n",
    "        if best_pval < threshold_in:\n",
    "            best_feature = new_pval.idxmin()\n",
    "            included.append(best_feature)\n",
    "            changed = True\n",
    "            if verbose:\n",
    "                print(f'Adicionando: {best_feature} com p-value {best_pval:.4f}')\n",
    "        model = sm.OLS(y, sm.add_constant(X[included])).fit()\n",
    "        pvalues = model.pvalues.iloc[1:]\n",
    "        worst_pval = pvalues.max()\n",
    "        if worst_pval > threshold_out:\n",
    "            worst_feature = pvalues.idxmax()\n",
    "            included.remove(worst_feature)\n",
    "            changed = True\n",
    "            if verbose:\n",
    "                print(f'Remove: {worst_feature} com p-value {worst_pval:.4f}')\n",
    "        if not changed:\n",
    "            break\n",
    "    return included\n",
    "selected_features = stepwise_selection(X_train, y_train)\n",
    "model_stepwise = sm.OLS(y_train, sm.add_constant(X_train[selected_features])).fit()\n",
    "y_pred_stepwise = model_stepwise.predict(sm.add_constant(X_test[selected_features]))\n",
    "mse_stepwise = mean_squared_error(y_test, y_pred_stepwise)\n",
    "r2_stepwise = r2_score(y_test, y_pred_stepwise)\n",
    "print(f\"R2 stepwise: {r2_stepwise}\")\n",
    "print(f\"Erro quadrático médio stepwise: {mse_stepwise}\")"
   ]
  },
  {
   "cell_type": "markdown",
   "metadata": {},
   "source": [
    "- Com base no valor de R² o modelo Lasso com Alpha=0.1 continua sendo o melhor modelo até agora."
   ]
  },
  {
   "cell_type": "code",
   "execution_count": 188,
   "metadata": {},
   "outputs": [
    {
     "name": "stdout",
     "output_type": "stream",
     "text": [
      "Coeficientes Ridge: [ 7.63884926e-03  5.75210007e+03  4.23491608e+01  3.53816953e+02\n",
      " -1.12669704e+02  3.24523836e+02  2.29626377e+02 -3.82243642e+01\n",
      "  1.68379937e+02  6.97702047e+01  5.06839583e+02  2.08462015e+02]\n",
      "Coeficientes Lasso: [ 7.63540423e-03  5.75170541e+03  4.21239386e+01  3.53257081e+02\n",
      " -1.10632013e+02  3.24460311e+02  2.29329490e+02 -3.85632215e+01\n",
      "  1.68145316e+02  6.97709712e+01  5.06830105e+02  2.06716330e+02]\n"
     ]
    }
   ],
   "source": [
    "#5\n",
    "ridge_coef = Ridge(alpha=best_alpha).fit(X_train, y_train).coef_\n",
    "lasso_coef = Lasso(alpha=best_alpha_lasso).fit(X_train, y_train).coef_\n",
    "print(f\"Coeficientes Ridge: {ridge_coef}\")\n",
    "print(f\"Coeficientes Lasso: {lasso_coef}\")"
   ]
  },
  {
   "cell_type": "markdown",
   "metadata": {},
   "source": [
    "- O modelo Lasso com Alpha=0.1 continua sendo o melhor modelo até agora."
   ]
  },
  {
   "cell_type": "code",
   "execution_count": 196,
   "metadata": {},
   "outputs": [
    {
     "name": "stdout",
     "output_type": "stream",
     "text": [
      "R2 com características polinomiais: 0.3775611962437957\n"
     ]
    }
   ],
   "source": [
    "#6\n",
    "scaler = StandardScaler()\n",
    "X_train_scaled = scaler.fit_transform(X_train)\n",
    "X_test_scaled = scaler.transform(X_test)\n",
    "poly = PolynomialFeatures(degree=2, include_bias=False)\n",
    "X_train_poly = poly.fit_transform(X_train_scaled)\n",
    "X_test_poly = poly.transform(X_test_scaled)\n",
    "lin_reg_poly = LinearRegression()\n",
    "lin_reg_poly.fit(X_train_poly, y_train)\n",
    "y_pred_poly = lin_reg_poly.predict(X_test_poly)\n",
    "r2_poly = r2_score(y_test, y_pred_poly)\n",
    "print(f\"R2 com características polinomiais: {r2_poly}\")"
   ]
  },
  {
   "cell_type": "code",
   "execution_count": 197,
   "metadata": {},
   "outputs": [
    {
     "name": "stdout",
     "output_type": "stream",
     "text": [
      "R2 do melhor regressor da árvore: 0.3442253840852739\n"
     ]
    }
   ],
   "source": [
    "#7\n",
    "params = {\n",
    "    'max_depth': [None, 2, 4, 6, 8, 10],\n",
    "    'min_samples_split': [2, 5, 10],\n",
    "    'min_samples_leaf': [1, 2, 4]}\n",
    "grid_search = GridSearchCV(DecisionTreeRegressor(random_state=42), params, cv=5, scoring='r2')\n",
    "grid_search.fit(X_train, y_train)\n",
    "best_tree_reg = grid_search.best_estimator_\n",
    "y_pred_best_tree = best_tree_reg.predict(X_test)\n",
    "r2_best_tree = r2_score(y_test, y_pred_best_tree)\n",
    "print(f\"R2 do melhor regressor da árvore: {r2_best_tree}\")"
   ]
  }
 ],
 "metadata": {
  "kernelspec": {
   "display_name": "Python 3",
   "language": "python",
   "name": "python3"
  },
  "language_info": {
   "codemirror_mode": {
    "name": "ipython",
    "version": 3
   },
   "file_extension": ".py",
   "mimetype": "text/x-python",
   "name": "python",
   "nbconvert_exporter": "python",
   "pygments_lexer": "ipython3",
   "version": "3.11.5"
  }
 },
 "nbformat": 4,
 "nbformat_minor": 4
}
